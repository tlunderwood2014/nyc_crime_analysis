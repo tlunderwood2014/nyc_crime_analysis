{
 "cells": [
  {
   "cell_type": "code",
   "execution_count": 11,
   "metadata": {},
   "outputs": [],
   "source": [
    "import pandas as pd\n",
    "import numpy as np\n",
    "from sklearn.cluster import DBSCAN, KMeans\n",
    "from sklearn.preprocessing import StandardScaler\n",
    "from sklearn.metrics import silhouette_score\n",
    "from sklearn.decomposition import PCA\n",
    "\n",
    "import matplotlib.pyplot as plt\n",
    "%matplotlib inline\n",
    "import seaborn as sns"
   ]
  },
  {
   "cell_type": "markdown",
   "metadata": {},
   "source": [
    "## Exploratory Analysis of New York Crime Data\n",
    "---"
   ]
  },
  {
   "cell_type": "markdown",
   "metadata": {},
   "source": [
    "Given the difficulty had in properly modelling this data, and with the ongoing goal of analyzing what can be learned by crime data in the city of New York, this notebook will conduct an unsupervised model of the data, in the hopes of identifying important trends for follow up studies to be built around.\n",
    "\n",
    "### Method of Analysis\n",
    "---\n",
    "- Using unsupervised modelling, cluster the data into relevant groups\n",
    "\n",
    "- If sufficient silhouette score are achieved, pass these labels into the original dataframe and conduct EDA\n",
    "\n",
    "- Report findings of any trends\n",
    "\n",
    "**NOTE: As this is purely exploratory analysis, there can be no definitive conclusions drawn from these findings. At best, these results will serve as a guide to imortant next steps in achieving better results in follow up data collection.**"
   ]
  },
  {
   "cell_type": "markdown",
   "metadata": {},
   "source": [
    "## Reading in Data\n",
    "---"
   ]
  },
  {
   "cell_type": "code",
   "execution_count": 2,
   "metadata": {},
   "outputs": [],
   "source": [
    "df = pd.read_csv('complaints_2018_final.csv')"
   ]
  },
  {
   "cell_type": "code",
   "execution_count": 3,
   "metadata": {},
   "outputs": [],
   "source": [
    "df.cmplnt_fr_dt = df.cmplnt_fr_dt.apply(lambda x: pd.to_datetime(x))"
   ]
  },
  {
   "cell_type": "code",
   "execution_count": 4,
   "metadata": {},
   "outputs": [],
   "source": [
    "df['dayofweek'] = df.cmplnt_fr_dt.apply(lambda x: x.day_name())\n",
    "df['month'] = df.cmplnt_fr_dt.apply(lambda x: x.month)"
   ]
  },
  {
   "cell_type": "code",
   "execution_count": 5,
   "metadata": {},
   "outputs": [
    {
     "data": {
      "text/html": [
       "<div>\n",
       "<style scoped>\n",
       "    .dataframe tbody tr th:only-of-type {\n",
       "        vertical-align: middle;\n",
       "    }\n",
       "\n",
       "    .dataframe tbody tr th {\n",
       "        vertical-align: top;\n",
       "    }\n",
       "\n",
       "    .dataframe thead th {\n",
       "        text-align: right;\n",
       "    }\n",
       "</style>\n",
       "<table border=\"1\" class=\"dataframe\">\n",
       "  <thead>\n",
       "    <tr style=\"text-align: right;\">\n",
       "      <th></th>\n",
       "      <th>cmplnt_num</th>\n",
       "      <th>cmplnt_fr_dt</th>\n",
       "      <th>cmplnt_fr_tm</th>\n",
       "      <th>rpt_dt</th>\n",
       "      <th>ky_cd</th>\n",
       "      <th>ofns_desc</th>\n",
       "      <th>pd_cd</th>\n",
       "      <th>pd_desc</th>\n",
       "      <th>law_cat_cd</th>\n",
       "      <th>boro_nm</th>\n",
       "      <th>...</th>\n",
       "      <th>county</th>\n",
       "      <th>zipcodes</th>\n",
       "      <th>adjusted_gross_income_(agi)</th>\n",
       "      <th>avg_agi</th>\n",
       "      <th>total_income_amount</th>\n",
       "      <th>avg_total_income</th>\n",
       "      <th>taxable_income_amount</th>\n",
       "      <th>avg_taxable_income</th>\n",
       "      <th>dayofweek</th>\n",
       "      <th>month</th>\n",
       "    </tr>\n",
       "  </thead>\n",
       "  <tbody>\n",
       "    <tr>\n",
       "      <th>0</th>\n",
       "      <td>453608592</td>\n",
       "      <td>2018-12-21</td>\n",
       "      <td>10:00 AM</td>\n",
       "      <td>2019-01-02</td>\n",
       "      <td>341</td>\n",
       "      <td>petit_larceny</td>\n",
       "      <td>338</td>\n",
       "      <td>larceny_petit_from_building_un</td>\n",
       "      <td>misdemeanor</td>\n",
       "      <td>manhattan</td>\n",
       "      <td>...</td>\n",
       "      <td>New York</td>\n",
       "      <td>10002.0</td>\n",
       "      <td>2002349.0</td>\n",
       "      <td>46.126446</td>\n",
       "      <td>2033619.0</td>\n",
       "      <td>46.846786</td>\n",
       "      <td>1347603.0</td>\n",
       "      <td>52.867909</td>\n",
       "      <td>Friday</td>\n",
       "      <td>12</td>\n",
       "    </tr>\n",
       "    <tr>\n",
       "      <th>1</th>\n",
       "      <td>878647334</td>\n",
       "      <td>2018-10-17</td>\n",
       "      <td>14:30 PM</td>\n",
       "      <td>2019-01-15</td>\n",
       "      <td>341</td>\n",
       "      <td>petit_larceny</td>\n",
       "      <td>349</td>\n",
       "      <td>larceny_petit_of_license_plate</td>\n",
       "      <td>misdemeanor</td>\n",
       "      <td>queens</td>\n",
       "      <td>...</td>\n",
       "      <td>Queens</td>\n",
       "      <td>11385.0</td>\n",
       "      <td>1929001.0</td>\n",
       "      <td>40.653340</td>\n",
       "      <td>1948325.0</td>\n",
       "      <td>41.060590</td>\n",
       "      <td>1141610.0</td>\n",
       "      <td>34.149267</td>\n",
       "      <td>Wednesday</td>\n",
       "      <td>10</td>\n",
       "    </tr>\n",
       "    <tr>\n",
       "      <th>2</th>\n",
       "      <td>128026914</td>\n",
       "      <td>2018-12-24</td>\n",
       "      <td>20:00 PM</td>\n",
       "      <td>2019-01-02</td>\n",
       "      <td>341</td>\n",
       "      <td>petit_larceny</td>\n",
       "      <td>349</td>\n",
       "      <td>larceny_petit_of_license_plate</td>\n",
       "      <td>misdemeanor</td>\n",
       "      <td>bronx</td>\n",
       "      <td>...</td>\n",
       "      <td>Bronx</td>\n",
       "      <td>10464.0</td>\n",
       "      <td>163217.0</td>\n",
       "      <td>76.269626</td>\n",
       "      <td>165381.0</td>\n",
       "      <td>77.280841</td>\n",
       "      <td>116220.0</td>\n",
       "      <td>66.034091</td>\n",
       "      <td>Monday</td>\n",
       "      <td>12</td>\n",
       "    </tr>\n",
       "    <tr>\n",
       "      <th>3</th>\n",
       "      <td>997752766</td>\n",
       "      <td>2018-09-17</td>\n",
       "      <td>07:00 AM</td>\n",
       "      <td>2019-01-07</td>\n",
       "      <td>112</td>\n",
       "      <td>theft_fraud</td>\n",
       "      <td>739</td>\n",
       "      <td>fraud_unclassified_felony</td>\n",
       "      <td>felony</td>\n",
       "      <td>brooklyn</td>\n",
       "      <td>...</td>\n",
       "      <td>Kings</td>\n",
       "      <td>11204.0</td>\n",
       "      <td>1606891.0</td>\n",
       "      <td>50.499403</td>\n",
       "      <td>1629709.0</td>\n",
       "      <td>51.216499</td>\n",
       "      <td>902117.0</td>\n",
       "      <td>47.680603</td>\n",
       "      <td>Monday</td>\n",
       "      <td>9</td>\n",
       "    </tr>\n",
       "    <tr>\n",
       "      <th>4</th>\n",
       "      <td>746011851</td>\n",
       "      <td>2018-09-04</td>\n",
       "      <td>10:00 AM</td>\n",
       "      <td>2019-12-09</td>\n",
       "      <td>116</td>\n",
       "      <td>sex_crimes</td>\n",
       "      <td>168</td>\n",
       "      <td>sodomy_1</td>\n",
       "      <td>felony</td>\n",
       "      <td>bronx</td>\n",
       "      <td>...</td>\n",
       "      <td>Bronx</td>\n",
       "      <td>10467.0</td>\n",
       "      <td>1357285.0</td>\n",
       "      <td>31.616236</td>\n",
       "      <td>1368864.0</td>\n",
       "      <td>31.885954</td>\n",
       "      <td>710802.0</td>\n",
       "      <td>25.819179</td>\n",
       "      <td>Tuesday</td>\n",
       "      <td>9</td>\n",
       "    </tr>\n",
       "  </tbody>\n",
       "</table>\n",
       "<p>5 rows × 32 columns</p>\n",
       "</div>"
      ],
      "text/plain": [
       "   cmplnt_num cmplnt_fr_dt cmplnt_fr_tm      rpt_dt  ky_cd      ofns_desc  \\\n",
       "0   453608592   2018-12-21     10:00 AM  2019-01-02    341  petit_larceny   \n",
       "1   878647334   2018-10-17     14:30 PM  2019-01-15    341  petit_larceny   \n",
       "2   128026914   2018-12-24     20:00 PM  2019-01-02    341  petit_larceny   \n",
       "3   997752766   2018-09-17     07:00 AM  2019-01-07    112    theft_fraud   \n",
       "4   746011851   2018-09-04     10:00 AM  2019-12-09    116     sex_crimes   \n",
       "\n",
       "   pd_cd                         pd_desc   law_cat_cd    boro_nm  ...  \\\n",
       "0    338  larceny_petit_from_building_un  misdemeanor  manhattan  ...   \n",
       "1    349  larceny_petit_of_license_plate  misdemeanor     queens  ...   \n",
       "2    349  larceny_petit_of_license_plate  misdemeanor      bronx  ...   \n",
       "3    739       fraud_unclassified_felony       felony   brooklyn  ...   \n",
       "4    168                        sodomy_1       felony      bronx  ...   \n",
       "\n",
       "     county zipcodes adjusted_gross_income_(agi)    avg_agi  \\\n",
       "0  New York  10002.0                   2002349.0  46.126446   \n",
       "1    Queens  11385.0                   1929001.0  40.653340   \n",
       "2     Bronx  10464.0                    163217.0  76.269626   \n",
       "3     Kings  11204.0                   1606891.0  50.499403   \n",
       "4     Bronx  10467.0                   1357285.0  31.616236   \n",
       "\n",
       "   total_income_amount  avg_total_income taxable_income_amount  \\\n",
       "0            2033619.0         46.846786             1347603.0   \n",
       "1            1948325.0         41.060590             1141610.0   \n",
       "2             165381.0         77.280841              116220.0   \n",
       "3            1629709.0         51.216499              902117.0   \n",
       "4            1368864.0         31.885954              710802.0   \n",
       "\n",
       "  avg_taxable_income  dayofweek month  \n",
       "0          52.867909     Friday    12  \n",
       "1          34.149267  Wednesday    10  \n",
       "2          66.034091     Monday    12  \n",
       "3          47.680603     Monday     9  \n",
       "4          25.819179    Tuesday     9  \n",
       "\n",
       "[5 rows x 32 columns]"
      ]
     },
     "execution_count": 5,
     "metadata": {},
     "output_type": "execute_result"
    }
   ],
   "source": [
    "df.head()"
   ]
  },
  {
   "cell_type": "code",
   "execution_count": 13,
   "metadata": {},
   "outputs": [
    {
     "data": {
      "text/plain": [
       "Index(['cmplnt_num', 'cmplnt_fr_dt', 'cmplnt_fr_tm', 'rpt_dt', 'ky_cd',\n",
       "       'ofns_desc', 'pd_cd', 'pd_desc', 'law_cat_cd', 'boro_nm',\n",
       "       'prem_typ_desc', 'susp_age_group', 'susp_race', 'susp_sex', 'latitude',\n",
       "       'longitude', 'patrol_boro', 'vic_age_group', 'vic_race', 'vic_sex',\n",
       "       'population', 'area', 'county', 'zipcodes',\n",
       "       'adjusted_gross_income_(agi)', 'avg_agi', 'total_income_amount',\n",
       "       'avg_total_income', 'taxable_income_amount', 'avg_taxable_income'],\n",
       "      dtype='object')"
      ]
     },
     "execution_count": 13,
     "metadata": {},
     "output_type": "execute_result"
    }
   ],
   "source": [
    "df.columns"
   ]
  },
  {
   "cell_type": "markdown",
   "metadata": {},
   "source": [
    "## Unsupervised Models\n",
    "---"
   ]
  },
  {
   "cell_type": "code",
   "execution_count": 6,
   "metadata": {},
   "outputs": [],
   "source": [
    "#What I plan to dummy later, since they are object type data\n",
    "morons = ['ofns_desc','pd_desc', 'law_cat_cd', 'boro_nm',\n",
    "       'prem_typ_desc', 'susp_age_group', 'susp_race', 'susp_sex','patrol_boro', 'vic_age_group', 'vic_race', 'vic_sex',\n",
    "       'population', 'area', 'county', 'zipcodes','dayofweek']"
   ]
  },
  {
   "cell_type": "code",
   "execution_count": null,
   "metadata": {},
   "outputs": [],
   "source": [
    "#This is commented out because of the massive amount of time involved in analyzing the complete dataset\n",
    "\n",
    "# X = df.drop(columns = ['cmplnt_num','cmplnt_fr_dt', 'cmplnt_fr_tm', 'rpt_dt'])\n",
    "# X = pd.get_dummies(X, columns = morons, drop_first = True)"
   ]
  },
  {
   "cell_type": "code",
   "execution_count": 7,
   "metadata": {},
   "outputs": [],
   "source": [
    "sc = StandardScaler()\n",
    "#Z = sc.fit_transform(X)"
   ]
  },
  {
   "cell_type": "code",
   "execution_count": 8,
   "metadata": {},
   "outputs": [],
   "source": [
    "#Adjustable code that will allow for different low/high values to test for best clusters in a KMeans\n",
    "def elbow(Z, low = 2, high = 8):\n",
    "    things = []\n",
    "    for clusters in range(low, high):\n",
    "        kmeans = KMeans(n_clusters=clusters,\n",
    "                        random_state=42)\n",
    "        kmeans.fit(Z)\n",
    "        things.append(kmeans.inertia_)\n",
    "\n",
    "    plt.plot(list(range(low, high)), things, marker='o')\n",
    "    plt.title('The Elbow Method')\n",
    "    plt.xlabel('Number of Clusters')\n",
    "    plt.ylabel('Sum of Squared Distance from Centroid')"
   ]
  },
  {
   "cell_type": "code",
   "execution_count": 30,
   "metadata": {},
   "outputs": [
    {
     "name": "stdout",
     "output_type": "stream",
     "text": [
      "CPU times: user 43min 50s, sys: 2h 1min 55s, total: 2h 45min 46s\n",
      "Wall time: 5h 20min 27s\n"
     ]
    },
    {
     "data": {
      "text/plain": [
       "KMeans(n_clusters=3)"
      ]
     },
     "execution_count": 30,
     "metadata": {},
     "output_type": "execute_result"
    }
   ],
   "source": [
    "%%time\n",
    "km = KMeans(n_clusters = 3)\n",
    "km.fit(Z)"
   ]
  },
  {
   "cell_type": "markdown",
   "metadata": {},
   "source": [
    "This data is simply too large to analyze under time contraints. I will have to settle for sampling a small subset of the data.\n",
    "\n",
    "## Subset Analysis\n",
    "---"
   ]
  },
  {
   "cell_type": "code",
   "execution_count": 9,
   "metadata": {},
   "outputs": [],
   "source": [
    "sample = df.sample(frac = .20)"
   ]
  },
  {
   "cell_type": "code",
   "execution_count": 10,
   "metadata": {},
   "outputs": [],
   "source": [
    "X = sample.drop(columns = ['cmplnt_num','cmplnt_fr_dt', 'cmplnt_fr_tm', 'rpt_dt'])\n",
    "X = pd.get_dummies(X, columns = morons, drop_first = True)\n",
    "\n",
    "Z = sc.fit_transform(X)"
   ]
  },
  {
   "cell_type": "code",
   "execution_count": 50,
   "metadata": {},
   "outputs": [
    {
     "name": "stdout",
     "output_type": "stream",
     "text": [
      "CPU times: user 10min 30s, sys: 40.8 s, total: 11min 11s\n",
      "Wall time: 3min 6s\n"
     ]
    },
    {
     "data": {
      "image/png": "[encoded data removed]",
      "text/plain": [
       "<Figure size 432x288 with 1 Axes>"
      ]
     },
     "metadata": {
      "needs_background": "light"
     },
     "output_type": "display_data"
    }
   ],
   "source": [
    "%%time\n",
    "elbow(Z)"
   ]
  },
  {
   "cell_type": "code",
   "execution_count": 52,
   "metadata": {},
   "outputs": [
    {
     "name": "stdout",
     "output_type": "stream",
     "text": [
      "CPU times: user 13min 5s, sys: 28.6 s, total: 13min 34s\n",
      "Wall time: 3min 20s\n"
     ]
    },
    {
     "data": {
      "image/png": "[encoded data removed]",
      "text/plain": [
       "<Figure size 432x288 with 1 Axes>"
      ]
     },
     "metadata": {
      "needs_background": "light"
     },
     "output_type": "display_data"
    }
   ],
   "source": [
    "%%time\n",
    "elbow(Z, low = 8, high = 12)"
   ]
  },
  {
   "cell_type": "markdown",
   "metadata": {},
   "source": [
    "It looks like there's not one good option to use here. I'll try 4 and 5."
   ]
  },
  {
   "cell_type": "code",
   "execution_count": 51,
   "metadata": {},
   "outputs": [
    {
     "name": "stdout",
     "output_type": "stream",
     "text": [
      "CPU times: user 1min 34s, sys: 6.31 s, total: 1min 40s\n",
      "Wall time: 29.1 s\n"
     ]
    },
    {
     "data": {
      "text/plain": [
       "KMeans(n_clusters=4)"
      ]
     },
     "execution_count": 51,
     "metadata": {},
     "output_type": "execute_result"
    }
   ],
   "source": [
    "%%time\n",
    "km = KMeans(n_clusters = 4)\n",
    "km.fit(Z)"
   ]
  },
  {
   "cell_type": "code",
   "execution_count": 53,
   "metadata": {},
   "outputs": [
    {
     "data": {
      "text/plain": [
       "0.0055640868596016696"
      ]
     },
     "execution_count": 53,
     "metadata": {},
     "output_type": "execute_result"
    }
   ],
   "source": [
    "silhouette_score(Z, km.labels_)"
   ]
  },
  {
   "cell_type": "code",
   "execution_count": 54,
   "metadata": {},
   "outputs": [
    {
     "data": {
      "text/plain": [
       "KMeans(n_clusters=5)"
      ]
     },
     "execution_count": 54,
     "metadata": {},
     "output_type": "execute_result"
    }
   ],
   "source": [
    "km = KMeans(n_clusters = 5)\n",
    "km.fit(Z)"
   ]
  },
  {
   "cell_type": "code",
   "execution_count": 56,
   "metadata": {},
   "outputs": [
    {
     "data": {
      "text/plain": [
       "0.005407955459575741"
      ]
     },
     "execution_count": 56,
     "metadata": {},
     "output_type": "execute_result"
    }
   ],
   "source": [
    "silhouette_score(Z, km.labels_)"
   ]
  },
  {
   "cell_type": "markdown",
   "metadata": {},
   "source": [
    "It is beginning to appear that this analyis will simply be confirmation that this data has very little correlations to be found within it, which would explain the relatively poor performance of modelling in other notebooks.\n",
    "\n",
    "## DBSCAN attempt\n",
    "---"
   ]
  },
  {
   "cell_type": "code",
   "execution_count": 14,
   "metadata": {},
   "outputs": [
    {
     "name": "stdout",
     "output_type": "stream",
     "text": [
      "CPU times: user 10h 59min 8s, sys: 36.4 s, total: 10h 59min 44s\n",
      "Wall time: 1h 27min 8s\n"
     ]
    },
    {
     "data": {
      "text/plain": [
       "DBSCAN(eps=0.2, n_jobs=-1)"
      ]
     },
     "execution_count": 14,
     "metadata": {},
     "output_type": "execute_result"
    }
   ],
   "source": [
    "%%time\n",
    "db = DBSCAN(eps = .2, min_samples = 5, n_jobs = -1)\n",
    "\n",
    "db.fit(Z)"
   ]
  },
  {
   "cell_type": "code",
   "execution_count": 16,
   "metadata": {},
   "outputs": [
    {
     "data": {
      "text/plain": [
       "{-1, 0, 1, 2, 3, 4, 5, 6, 7, 8, 9, 10, 11, 12, 13}"
      ]
     },
     "execution_count": 16,
     "metadata": {},
     "output_type": "execute_result"
    }
   ],
   "source": [
    "labels = db.labels_\n",
    "set(labels)"
   ]
  },
  {
   "cell_type": "code",
   "execution_count": 17,
   "metadata": {},
   "outputs": [
    {
     "data": {
      "text/plain": [
       "-0.2403206722800253"
      ]
     },
     "execution_count": 17,
     "metadata": {},
     "output_type": "execute_result"
    }
   ],
   "source": [
    "silhouette_score(Z, labels)"
   ]
  },
  {
   "cell_type": "markdown",
   "metadata": {},
   "source": [
    "The clustering and DBscan scores are very bad on just the "
   ]
  },
  {
   "cell_type": "markdown",
   "metadata": {},
   "source": [
    "## Simplify the features with a PCA\n",
    "---"
   ]
  },
  {
   "cell_type": "code",
   "execution_count": 100,
   "metadata": {},
   "outputs": [
    {
     "data": {
      "text/plain": [
       "(183491, 1075)"
      ]
     },
     "execution_count": 100,
     "metadata": {},
     "output_type": "execute_result"
    }
   ],
   "source": [
    "Z.shape"
   ]
  },
  {
   "cell_type": "code",
   "execution_count": 12,
   "metadata": {},
   "outputs": [],
   "source": [
    "pca = PCA(n_components = 10)"
   ]
  },
  {
   "cell_type": "code",
   "execution_count": 16,
   "metadata": {},
   "outputs": [
    {
     "name": "stdout",
     "output_type": "stream",
     "text": [
      "CPU times: user 30.9 s, sys: 4.48 s, total: 35.4 s\n",
      "Wall time: 10.9 s\n"
     ]
    }
   ],
   "source": [
    "%%time\n",
    "simple = pca.fit_transform(Z)"
   ]
  },
  {
   "cell_type": "code",
   "execution_count": 20,
   "metadata": {},
   "outputs": [
    {
     "data": {
      "text/plain": [
       "(183491, 10)"
      ]
     },
     "execution_count": 20,
     "metadata": {},
     "output_type": "execute_result"
    }
   ],
   "source": [
    "simple.shape"
   ]
  },
  {
   "cell_type": "code",
   "execution_count": 21,
   "metadata": {},
   "outputs": [
    {
     "data": {
      "text/plain": [
       "array([[ 0.30699858, -0.95691583, -1.37711602,  3.51225354,  2.32382636,\n",
       "         1.14799967,  5.82435305, -1.25800534, -0.67943441, -0.849914  ]])"
      ]
     },
     "execution_count": 21,
     "metadata": {},
     "output_type": "execute_result"
    }
   ],
   "source": [
    "simple[:1]"
   ]
  },
  {
   "cell_type": "markdown",
   "metadata": {},
   "source": [
    "## Passing the PCA data into a K-Means Cluster\n",
    "---"
   ]
  },
  {
   "cell_type": "code",
   "execution_count": 22,
   "metadata": {},
   "outputs": [
    {
     "data": {
      "image/png": "[encoded data removed]",
      "text/plain": [
       "<Figure size 432x288 with 1 Axes>"
      ]
     },
     "metadata": {
      "needs_background": "light"
     },
     "output_type": "display_data"
    }
   ],
   "source": [
    "elbow(simple)"
   ]
  },
  {
   "cell_type": "code",
   "execution_count": 23,
   "metadata": {},
   "outputs": [
    {
     "data": {
      "image/png": "[encoded data removed]",
      "text/plain": [
       "<Figure size 432x288 with 1 Axes>"
      ]
     },
     "metadata": {
      "needs_background": "light"
     },
     "output_type": "display_data"
    }
   ],
   "source": [
    "elbow(simple, low = 8, high = 15)"
   ]
  },
  {
   "cell_type": "code",
   "execution_count": 24,
   "metadata": {},
   "outputs": [
    {
     "data": {
      "image/png": "[encoded data removed]",
      "text/plain": [
       "<Figure size 432x288 with 1 Axes>"
      ]
     },
     "metadata": {
      "needs_background": "light"
     },
     "output_type": "display_data"
    }
   ],
   "source": [
    "elbow(simple, low = 16, high = 25)"
   ]
  },
  {
   "cell_type": "markdown",
   "metadata": {},
   "source": [
    "Looks like k = 12 and k = 13 may be helpful."
   ]
  },
  {
   "cell_type": "code",
   "execution_count": 28,
   "metadata": {},
   "outputs": [
    {
     "data": {
      "text/plain": [
       "KMeans(n_clusters=12)"
      ]
     },
     "execution_count": 28,
     "metadata": {},
     "output_type": "execute_result"
    }
   ],
   "source": [
    "km = KMeans(n_clusters = 12)\n",
    "km.fit(simple)"
   ]
  },
  {
   "cell_type": "code",
   "execution_count": 26,
   "metadata": {},
   "outputs": [
    {
     "data": {
      "text/plain": [
       "0.3777002610879573"
      ]
     },
     "execution_count": 26,
     "metadata": {},
     "output_type": "execute_result"
    }
   ],
   "source": [
    "silhouette_score(simple, km.labels_)"
   ]
  },
  {
   "cell_type": "code",
   "execution_count": 29,
   "metadata": {},
   "outputs": [
    {
     "data": {
      "text/plain": [
       "-0.04765971285650341"
      ]
     },
     "execution_count": 29,
     "metadata": {},
     "output_type": "execute_result"
    }
   ],
   "source": [
    "#This should be expected, actually - there's no reason to expand the silhouette score into a model it was not fit to.\n",
    "silhouette_score(Z, km.labels_)"
   ]
  },
  {
   "cell_type": "code",
   "execution_count": 30,
   "metadata": {},
   "outputs": [
    {
     "data": {
      "text/plain": [
       "KMeans(n_clusters=13)"
      ]
     },
     "execution_count": 30,
     "metadata": {},
     "output_type": "execute_result"
    }
   ],
   "source": [
    "km = KMeans(n_clusters = 13)\n",
    "km.fit(simple)"
   ]
  },
  {
   "cell_type": "code",
   "execution_count": 31,
   "metadata": {},
   "outputs": [
    {
     "data": {
      "text/plain": [
       "0.3530427959738568"
      ]
     },
     "execution_count": 31,
     "metadata": {},
     "output_type": "execute_result"
    }
   ],
   "source": [
    "silhouette_score(simple, km.labels_)"
   ]
  },
  {
   "cell_type": "code",
   "execution_count": 34,
   "metadata": {},
   "outputs": [
    {
     "data": {
      "text/plain": [
       "(183491,)"
      ]
     },
     "execution_count": 34,
     "metadata": {},
     "output_type": "execute_result"
    }
   ],
   "source": [
    "labels = km.labels_\n",
    "labels.shape"
   ]
  },
  {
   "cell_type": "code",
   "execution_count": 37,
   "metadata": {},
   "outputs": [
    {
     "data": {
      "text/plain": [
       "array([ 6, 12], dtype=int32)"
      ]
     },
     "execution_count": 37,
     "metadata": {},
     "output_type": "execute_result"
    }
   ],
   "source": [
    "labels[:2]"
   ]
  },
  {
   "cell_type": "markdown",
   "metadata": {},
   "source": [
    "These are much better results. It may be that some meaningful EDA can be carried out here!"
   ]
  },
  {
   "cell_type": "markdown",
   "metadata": {},
   "source": [
    "## EDA on clusters - what (if anything) do they mean?\n",
    "---"
   ]
  },
  {
   "cell_type": "code",
   "execution_count": 39,
   "metadata": {},
   "outputs": [],
   "source": [
    "sample['cluster_num'] = labels"
   ]
  },
  {
   "cell_type": "code",
   "execution_count": 41,
   "metadata": {},
   "outputs": [
    {
     "data": {
      "text/html": [
       "<div>\n",
       "<style scoped>\n",
       "    .dataframe tbody tr th:only-of-type {\n",
       "        vertical-align: middle;\n",
       "    }\n",
       "\n",
       "    .dataframe tbody tr th {\n",
       "        vertical-align: top;\n",
       "    }\n",
       "\n",
       "    .dataframe thead th {\n",
       "        text-align: right;\n",
       "    }\n",
       "</style>\n",
       "<table border=\"1\" class=\"dataframe\">\n",
       "  <thead>\n",
       "    <tr style=\"text-align: right;\">\n",
       "      <th></th>\n",
       "      <th>cmplnt_num</th>\n",
       "      <th>cmplnt_fr_dt</th>\n",
       "      <th>cmplnt_fr_tm</th>\n",
       "      <th>rpt_dt</th>\n",
       "      <th>ky_cd</th>\n",
       "      <th>ofns_desc</th>\n",
       "      <th>pd_cd</th>\n",
       "      <th>pd_desc</th>\n",
       "      <th>law_cat_cd</th>\n",
       "      <th>boro_nm</th>\n",
       "      <th>...</th>\n",
       "      <th>zipcodes</th>\n",
       "      <th>adjusted_gross_income_(agi)</th>\n",
       "      <th>avg_agi</th>\n",
       "      <th>total_income_amount</th>\n",
       "      <th>avg_total_income</th>\n",
       "      <th>taxable_income_amount</th>\n",
       "      <th>avg_taxable_income</th>\n",
       "      <th>dayofweek</th>\n",
       "      <th>month</th>\n",
       "      <th>cluster_num</th>\n",
       "    </tr>\n",
       "  </thead>\n",
       "  <tbody>\n",
       "    <tr>\n",
       "      <th>468359</th>\n",
       "      <td>429868522</td>\n",
       "      <td>2018-12-21</td>\n",
       "      <td>22:00 PM</td>\n",
       "      <td>2019-01-30</td>\n",
       "      <td>361</td>\n",
       "      <td>off_agnst_pub_ord_sensblty_&amp;</td>\n",
       "      <td>639</td>\n",
       "      <td>aggravated_harassment_2</td>\n",
       "      <td>misdemeanor</td>\n",
       "      <td>manhattan</td>\n",
       "      <td>...</td>\n",
       "      <td>10039.0</td>\n",
       "      <td>468538.0</td>\n",
       "      <td>34.965522</td>\n",
       "      <td>473199.0</td>\n",
       "      <td>35.313358</td>\n",
       "      <td>268858.0</td>\n",
       "      <td>30.448245</td>\n",
       "      <td>Friday</td>\n",
       "      <td>12</td>\n",
       "      <td>6</td>\n",
       "    </tr>\n",
       "    <tr>\n",
       "      <th>312106</th>\n",
       "      <td>188108430</td>\n",
       "      <td>2018-07-26</td>\n",
       "      <td>02:00 AM</td>\n",
       "      <td>2018-07-28</td>\n",
       "      <td>578</td>\n",
       "      <td>harrassment_2</td>\n",
       "      <td>638</td>\n",
       "      <td>harassment_subd_3_4_5</td>\n",
       "      <td>violation</td>\n",
       "      <td>brooklyn</td>\n",
       "      <td>...</td>\n",
       "      <td>11211.0</td>\n",
       "      <td>1791794.0</td>\n",
       "      <td>58.708847</td>\n",
       "      <td>1822086.0</td>\n",
       "      <td>59.701376</td>\n",
       "      <td>1283846.0</td>\n",
       "      <td>57.136004</td>\n",
       "      <td>Thursday</td>\n",
       "      <td>7</td>\n",
       "      <td>12</td>\n",
       "    </tr>\n",
       "    <tr>\n",
       "      <th>85157</th>\n",
       "      <td>791613704</td>\n",
       "      <td>2018-03-13</td>\n",
       "      <td>20:30 PM</td>\n",
       "      <td>2018-03-14</td>\n",
       "      <td>109</td>\n",
       "      <td>grand_larceny</td>\n",
       "      <td>457</td>\n",
       "      <td>larceny_grand_of_vehicular_motorcycle_accessories</td>\n",
       "      <td>felony</td>\n",
       "      <td>queens</td>\n",
       "      <td>...</td>\n",
       "      <td>11354.0</td>\n",
       "      <td>1008807.0</td>\n",
       "      <td>35.533885</td>\n",
       "      <td>1023869.0</td>\n",
       "      <td>36.064424</td>\n",
       "      <td>583770.0</td>\n",
       "      <td>37.808938</td>\n",
       "      <td>Tuesday</td>\n",
       "      <td>3</td>\n",
       "      <td>2</td>\n",
       "    </tr>\n",
       "    <tr>\n",
       "      <th>62483</th>\n",
       "      <td>327479634</td>\n",
       "      <td>2018-03-25</td>\n",
       "      <td>02:30 AM</td>\n",
       "      <td>2018-03-25</td>\n",
       "      <td>106</td>\n",
       "      <td>felony_assault</td>\n",
       "      <td>109</td>\n",
       "      <td>assault_2_1_unclassified</td>\n",
       "      <td>felony</td>\n",
       "      <td>bronx</td>\n",
       "      <td>...</td>\n",
       "      <td>10451.0</td>\n",
       "      <td>647933.0</td>\n",
       "      <td>29.094432</td>\n",
       "      <td>652966.0</td>\n",
       "      <td>29.320431</td>\n",
       "      <td>328360.0</td>\n",
       "      <td>23.674117</td>\n",
       "      <td>Sunday</td>\n",
       "      <td>3</td>\n",
       "      <td>11</td>\n",
       "    </tr>\n",
       "    <tr>\n",
       "      <th>103681</th>\n",
       "      <td>766479303</td>\n",
       "      <td>2018-04-04</td>\n",
       "      <td>18:00 PM</td>\n",
       "      <td>2018-04-05</td>\n",
       "      <td>341</td>\n",
       "      <td>petit_larceny</td>\n",
       "      <td>321</td>\n",
       "      <td>larceny_petit_from_auto</td>\n",
       "      <td>misdemeanor</td>\n",
       "      <td>brooklyn</td>\n",
       "      <td>...</td>\n",
       "      <td>11236.0</td>\n",
       "      <td>1837123.0</td>\n",
       "      <td>39.807649</td>\n",
       "      <td>1849528.0</td>\n",
       "      <td>40.076446</td>\n",
       "      <td>1000968.0</td>\n",
       "      <td>29.755291</td>\n",
       "      <td>Wednesday</td>\n",
       "      <td>4</td>\n",
       "      <td>5</td>\n",
       "    </tr>\n",
       "  </tbody>\n",
       "</table>\n",
       "<p>5 rows × 33 columns</p>\n",
       "</div>"
      ],
      "text/plain": [
       "        cmplnt_num cmplnt_fr_dt cmplnt_fr_tm      rpt_dt  ky_cd  \\\n",
       "468359   429868522   2018-12-21     22:00 PM  2019-01-30    361   \n",
       "312106   188108430   2018-07-26     02:00 AM  2018-07-28    578   \n",
       "85157    791613704   2018-03-13     20:30 PM  2018-03-14    109   \n",
       "62483    327479634   2018-03-25     02:30 AM  2018-03-25    106   \n",
       "103681   766479303   2018-04-04     18:00 PM  2018-04-05    341   \n",
       "\n",
       "                           ofns_desc  pd_cd  \\\n",
       "468359  off_agnst_pub_ord_sensblty_&    639   \n",
       "312106                 harrassment_2    638   \n",
       "85157                  grand_larceny    457   \n",
       "62483                 felony_assault    109   \n",
       "103681                 petit_larceny    321   \n",
       "\n",
       "                                                  pd_desc   law_cat_cd  \\\n",
       "468359                            aggravated_harassment_2  misdemeanor   \n",
       "312106                              harassment_subd_3_4_5    violation   \n",
       "85157   larceny_grand_of_vehicular_motorcycle_accessories       felony   \n",
       "62483                            assault_2_1_unclassified       felony   \n",
       "103681                            larceny_petit_from_auto  misdemeanor   \n",
       "\n",
       "          boro_nm  ... zipcodes adjusted_gross_income_(agi)    avg_agi  \\\n",
       "468359  manhattan  ...  10039.0                    468538.0  34.965522   \n",
       "312106   brooklyn  ...  11211.0                   1791794.0  58.708847   \n",
       "85157      queens  ...  11354.0                   1008807.0  35.533885   \n",
       "62483       bronx  ...  10451.0                    647933.0  29.094432   \n",
       "103681   brooklyn  ...  11236.0                   1837123.0  39.807649   \n",
       "\n",
       "       total_income_amount  avg_total_income  taxable_income_amount  \\\n",
       "468359            473199.0         35.313358               268858.0   \n",
       "312106           1822086.0         59.701376              1283846.0   \n",
       "85157            1023869.0         36.064424               583770.0   \n",
       "62483             652966.0         29.320431               328360.0   \n",
       "103681           1849528.0         40.076446              1000968.0   \n",
       "\n",
       "       avg_taxable_income  dayofweek month cluster_num  \n",
       "468359          30.448245     Friday    12           6  \n",
       "312106          57.136004   Thursday     7          12  \n",
       "85157           37.808938    Tuesday     3           2  \n",
       "62483           23.674117     Sunday     3          11  \n",
       "103681          29.755291  Wednesday     4           5  \n",
       "\n",
       "[5 rows x 33 columns]"
      ]
     },
     "execution_count": 41,
     "metadata": {},
     "output_type": "execute_result"
    }
   ],
   "source": [
    "sample.head()"
   ]
  },
  {
   "cell_type": "code",
   "execution_count": 48,
   "metadata": {},
   "outputs": [
    {
     "data": {
      "image/png": "[encoded data removed]",
      "text/plain": [
       "<Figure size 720x576 with 1 Axes>"
      ]
     },
     "metadata": {
      "needs_background": "light"
     },
     "output_type": "display_data"
    }
   ],
   "source": [
    "sample.groupby('cluster_num').cmplnt_num.count().plot.bar(rot = 0, figsize = (10, 8))\n",
    "plt.title(\"Cluster Analysis - Complaints Filed By Cluster\", fontsize = 15)\n",
    "plt.xlabel('Cluster Number', fontsize = 12)\n",
    "plt.ylabel('Number of Complaints', fontsize = 12);"
   ]
  },
  {
   "cell_type": "markdown",
   "metadata": {},
   "source": [
    "Right away, it appears that almost no data was placed into cluster 7, while clusters 1 and 12 are the largest of the 13 clusters."
   ]
  },
  {
   "cell_type": "code",
   "execution_count": 89,
   "metadata": {},
   "outputs": [
    {
     "data": {
      "image/png": "[encoded data removed]",
      "text/plain": [
       "<Figure size 1152x864 with 1 Axes>"
      ]
     },
     "metadata": {
      "needs_background": "light"
     },
     "output_type": "display_data"
    }
   ],
   "source": [
    "sample.groupby('cluster_num').boro_nm.value_counts().unstack().plot.bar(rot = 0, figsize = (16, 12))\n",
    "plt.title('Breakdown of Clusters by Borough', fontsize = 15)\n",
    "plt.xlabel('Cluster Number', fontsize = 12)\n",
    "plt.ylabel('Number of entries in each cluster', fontsize = 12);"
   ]
  },
  {
   "cell_type": "markdown",
   "metadata": {},
   "source": [
    "Interestingly, the predominant boroough in each cluster forms an identical distribution to the total number of complaints, indicating that very likely each cluster contains almost 100% of one borough, with almost 0% of any others."
   ]
  },
  {
   "cell_type": "code",
   "execution_count": 90,
   "metadata": {},
   "outputs": [
    {
     "data": {
      "text/html": [
       "<div>\n",
       "<style scoped>\n",
       "    .dataframe tbody tr th:only-of-type {\n",
       "        vertical-align: middle;\n",
       "    }\n",
       "\n",
       "    .dataframe tbody tr th {\n",
       "        vertical-align: top;\n",
       "    }\n",
       "\n",
       "    .dataframe thead th {\n",
       "        text-align: right;\n",
       "    }\n",
       "</style>\n",
       "<table border=\"1\" class=\"dataframe\">\n",
       "  <thead>\n",
       "    <tr style=\"text-align: right;\">\n",
       "      <th>boro_nm</th>\n",
       "      <th>bronx</th>\n",
       "      <th>brooklyn</th>\n",
       "      <th>manhattan</th>\n",
       "      <th>queens</th>\n",
       "      <th>staten_island</th>\n",
       "      <th>unknown</th>\n",
       "    </tr>\n",
       "    <tr>\n",
       "      <th>cluster_num</th>\n",
       "      <th></th>\n",
       "      <th></th>\n",
       "      <th></th>\n",
       "      <th></th>\n",
       "      <th></th>\n",
       "      <th></th>\n",
       "    </tr>\n",
       "  </thead>\n",
       "  <tbody>\n",
       "    <tr>\n",
       "      <th>0</th>\n",
       "      <td>NaN</td>\n",
       "      <td>0.000076</td>\n",
       "      <td>0.999849</td>\n",
       "      <td>0.000076</td>\n",
       "      <td>NaN</td>\n",
       "      <td>NaN</td>\n",
       "    </tr>\n",
       "    <tr>\n",
       "      <th>1</th>\n",
       "      <td>0.999719</td>\n",
       "      <td>0.000080</td>\n",
       "      <td>0.000120</td>\n",
       "      <td>0.000040</td>\n",
       "      <td>0.000040</td>\n",
       "      <td>NaN</td>\n",
       "    </tr>\n",
       "    <tr>\n",
       "      <th>2</th>\n",
       "      <td>NaN</td>\n",
       "      <td>0.002060</td>\n",
       "      <td>0.002166</td>\n",
       "      <td>0.995774</td>\n",
       "      <td>NaN</td>\n",
       "      <td>NaN</td>\n",
       "    </tr>\n",
       "    <tr>\n",
       "      <th>3</th>\n",
       "      <td>NaN</td>\n",
       "      <td>NaN</td>\n",
       "      <td>NaN</td>\n",
       "      <td>0.000125</td>\n",
       "      <td>0.999875</td>\n",
       "      <td>NaN</td>\n",
       "    </tr>\n",
       "    <tr>\n",
       "      <th>4</th>\n",
       "      <td>NaN</td>\n",
       "      <td>0.000561</td>\n",
       "      <td>0.000056</td>\n",
       "      <td>0.999326</td>\n",
       "      <td>NaN</td>\n",
       "      <td>0.000056</td>\n",
       "    </tr>\n",
       "    <tr>\n",
       "      <th>5</th>\n",
       "      <td>0.000148</td>\n",
       "      <td>0.999060</td>\n",
       "      <td>0.000049</td>\n",
       "      <td>0.000742</td>\n",
       "      <td>NaN</td>\n",
       "      <td>NaN</td>\n",
       "    </tr>\n",
       "    <tr>\n",
       "      <th>6</th>\n",
       "      <td>NaN</td>\n",
       "      <td>NaN</td>\n",
       "      <td>0.999816</td>\n",
       "      <td>0.000123</td>\n",
       "      <td>NaN</td>\n",
       "      <td>0.000061</td>\n",
       "    </tr>\n",
       "    <tr>\n",
       "      <th>7</th>\n",
       "      <td>NaN</td>\n",
       "      <td>NaN</td>\n",
       "      <td>NaN</td>\n",
       "      <td>NaN</td>\n",
       "      <td>NaN</td>\n",
       "      <td>1.000000</td>\n",
       "    </tr>\n",
       "    <tr>\n",
       "      <th>8</th>\n",
       "      <td>0.018820</td>\n",
       "      <td>0.976910</td>\n",
       "      <td>0.003050</td>\n",
       "      <td>0.001220</td>\n",
       "      <td>NaN</td>\n",
       "      <td>NaN</td>\n",
       "    </tr>\n",
       "    <tr>\n",
       "      <th>9</th>\n",
       "      <td>NaN</td>\n",
       "      <td>NaN</td>\n",
       "      <td>0.999873</td>\n",
       "      <td>NaN</td>\n",
       "      <td>NaN</td>\n",
       "      <td>0.000127</td>\n",
       "    </tr>\n",
       "    <tr>\n",
       "      <th>10</th>\n",
       "      <td>NaN</td>\n",
       "      <td>NaN</td>\n",
       "      <td>1.000000</td>\n",
       "      <td>NaN</td>\n",
       "      <td>NaN</td>\n",
       "      <td>NaN</td>\n",
       "    </tr>\n",
       "    <tr>\n",
       "      <th>11</th>\n",
       "      <td>0.999734</td>\n",
       "      <td>NaN</td>\n",
       "      <td>0.000266</td>\n",
       "      <td>NaN</td>\n",
       "      <td>NaN</td>\n",
       "      <td>NaN</td>\n",
       "    </tr>\n",
       "    <tr>\n",
       "      <th>12</th>\n",
       "      <td>0.000046</td>\n",
       "      <td>0.999536</td>\n",
       "      <td>0.000139</td>\n",
       "      <td>0.000279</td>\n",
       "      <td>NaN</td>\n",
       "      <td>NaN</td>\n",
       "    </tr>\n",
       "  </tbody>\n",
       "</table>\n",
       "</div>"
      ],
      "text/plain": [
       "boro_nm         bronx  brooklyn  manhattan    queens  staten_island   unknown\n",
       "cluster_num                                                                  \n",
       "0                 NaN  0.000076   0.999849  0.000076            NaN       NaN\n",
       "1            0.999719  0.000080   0.000120  0.000040       0.000040       NaN\n",
       "2                 NaN  0.002060   0.002166  0.995774            NaN       NaN\n",
       "3                 NaN       NaN        NaN  0.000125       0.999875       NaN\n",
       "4                 NaN  0.000561   0.000056  0.999326            NaN  0.000056\n",
       "5            0.000148  0.999060   0.000049  0.000742            NaN       NaN\n",
       "6                 NaN       NaN   0.999816  0.000123            NaN  0.000061\n",
       "7                 NaN       NaN        NaN       NaN            NaN  1.000000\n",
       "8            0.018820  0.976910   0.003050  0.001220            NaN       NaN\n",
       "9                 NaN       NaN   0.999873       NaN            NaN  0.000127\n",
       "10                NaN       NaN   1.000000       NaN            NaN       NaN\n",
       "11           0.999734       NaN   0.000266       NaN            NaN       NaN\n",
       "12           0.000046  0.999536   0.000139  0.000279            NaN       NaN"
      ]
     },
     "execution_count": 90,
     "metadata": {},
     "output_type": "execute_result"
    }
   ],
   "source": [
    "sample.groupby('cluster_num').boro_nm.value_counts(normalize = True).unstack()"
   ]
  },
  {
   "cell_type": "markdown",
   "metadata": {},
   "source": [
    "For the most part, clusters 1 and 11 pretty much exclusively deal witht the bronx, 5, 8, and 12 with brooklyn, 0, 6, 9 and 10 with manhattan, 2 and 4 with queens, 3 with staten_island, and 7 with the \"Null\" borough value.\n",
    "\n",
    "For the most part, each cluster contains nearly 100% entries from a single borough (over 99%). This is very likely a major contributer to signal."
   ]
  },
  {
   "cell_type": "code",
   "execution_count": 57,
   "metadata": {},
   "outputs": [
    {
     "data": {
      "text/html": [
       "<div>\n",
       "<style scoped>\n",
       "    .dataframe tbody tr th:only-of-type {\n",
       "        vertical-align: middle;\n",
       "    }\n",
       "\n",
       "    .dataframe tbody tr th {\n",
       "        vertical-align: top;\n",
       "    }\n",
       "\n",
       "    .dataframe thead th {\n",
       "        text-align: right;\n",
       "    }\n",
       "</style>\n",
       "<table border=\"1\" class=\"dataframe\">\n",
       "  <thead>\n",
       "    <tr style=\"text-align: right;\">\n",
       "      <th></th>\n",
       "      <th>cmplnt_num</th>\n",
       "      <th>cmplnt_fr_dt</th>\n",
       "      <th>cmplnt_fr_tm</th>\n",
       "      <th>rpt_dt</th>\n",
       "      <th>ky_cd</th>\n",
       "      <th>ofns_desc</th>\n",
       "      <th>pd_cd</th>\n",
       "      <th>pd_desc</th>\n",
       "      <th>law_cat_cd</th>\n",
       "      <th>boro_nm</th>\n",
       "      <th>...</th>\n",
       "      <th>zipcodes</th>\n",
       "      <th>adjusted_gross_income_(agi)</th>\n",
       "      <th>avg_agi</th>\n",
       "      <th>total_income_amount</th>\n",
       "      <th>avg_total_income</th>\n",
       "      <th>taxable_income_amount</th>\n",
       "      <th>avg_taxable_income</th>\n",
       "      <th>dayofweek</th>\n",
       "      <th>month</th>\n",
       "      <th>cluster_num</th>\n",
       "    </tr>\n",
       "  </thead>\n",
       "  <tbody>\n",
       "    <tr>\n",
       "      <th>468359</th>\n",
       "      <td>429868522</td>\n",
       "      <td>2018-12-21</td>\n",
       "      <td>22:00 PM</td>\n",
       "      <td>2019-01-30</td>\n",
       "      <td>361</td>\n",
       "      <td>off_agnst_pub_ord_sensblty_&amp;</td>\n",
       "      <td>639</td>\n",
       "      <td>aggravated_harassment_2</td>\n",
       "      <td>misdemeanor</td>\n",
       "      <td>manhattan</td>\n",
       "      <td>...</td>\n",
       "      <td>10039.0</td>\n",
       "      <td>468538.0</td>\n",
       "      <td>34.965522</td>\n",
       "      <td>473199.0</td>\n",
       "      <td>35.313358</td>\n",
       "      <td>268858.0</td>\n",
       "      <td>30.448245</td>\n",
       "      <td>Friday</td>\n",
       "      <td>12</td>\n",
       "      <td>6</td>\n",
       "    </tr>\n",
       "    <tr>\n",
       "      <th>312106</th>\n",
       "      <td>188108430</td>\n",
       "      <td>2018-07-26</td>\n",
       "      <td>02:00 AM</td>\n",
       "      <td>2018-07-28</td>\n",
       "      <td>578</td>\n",
       "      <td>harrassment_2</td>\n",
       "      <td>638</td>\n",
       "      <td>harassment_subd_3_4_5</td>\n",
       "      <td>violation</td>\n",
       "      <td>brooklyn</td>\n",
       "      <td>...</td>\n",
       "      <td>11211.0</td>\n",
       "      <td>1791794.0</td>\n",
       "      <td>58.708847</td>\n",
       "      <td>1822086.0</td>\n",
       "      <td>59.701376</td>\n",
       "      <td>1283846.0</td>\n",
       "      <td>57.136004</td>\n",
       "      <td>Thursday</td>\n",
       "      <td>7</td>\n",
       "      <td>12</td>\n",
       "    </tr>\n",
       "    <tr>\n",
       "      <th>85157</th>\n",
       "      <td>791613704</td>\n",
       "      <td>2018-03-13</td>\n",
       "      <td>20:30 PM</td>\n",
       "      <td>2018-03-14</td>\n",
       "      <td>109</td>\n",
       "      <td>grand_larceny</td>\n",
       "      <td>457</td>\n",
       "      <td>larceny_grand_of_vehicular_motorcycle_accessories</td>\n",
       "      <td>felony</td>\n",
       "      <td>queens</td>\n",
       "      <td>...</td>\n",
       "      <td>11354.0</td>\n",
       "      <td>1008807.0</td>\n",
       "      <td>35.533885</td>\n",
       "      <td>1023869.0</td>\n",
       "      <td>36.064424</td>\n",
       "      <td>583770.0</td>\n",
       "      <td>37.808938</td>\n",
       "      <td>Tuesday</td>\n",
       "      <td>3</td>\n",
       "      <td>2</td>\n",
       "    </tr>\n",
       "    <tr>\n",
       "      <th>62483</th>\n",
       "      <td>327479634</td>\n",
       "      <td>2018-03-25</td>\n",
       "      <td>02:30 AM</td>\n",
       "      <td>2018-03-25</td>\n",
       "      <td>106</td>\n",
       "      <td>felony_assault</td>\n",
       "      <td>109</td>\n",
       "      <td>assault_2_1_unclassified</td>\n",
       "      <td>felony</td>\n",
       "      <td>bronx</td>\n",
       "      <td>...</td>\n",
       "      <td>10451.0</td>\n",
       "      <td>647933.0</td>\n",
       "      <td>29.094432</td>\n",
       "      <td>652966.0</td>\n",
       "      <td>29.320431</td>\n",
       "      <td>328360.0</td>\n",
       "      <td>23.674117</td>\n",
       "      <td>Sunday</td>\n",
       "      <td>3</td>\n",
       "      <td>11</td>\n",
       "    </tr>\n",
       "    <tr>\n",
       "      <th>103681</th>\n",
       "      <td>766479303</td>\n",
       "      <td>2018-04-04</td>\n",
       "      <td>18:00 PM</td>\n",
       "      <td>2018-04-05</td>\n",
       "      <td>341</td>\n",
       "      <td>petit_larceny</td>\n",
       "      <td>321</td>\n",
       "      <td>larceny_petit_from_auto</td>\n",
       "      <td>misdemeanor</td>\n",
       "      <td>brooklyn</td>\n",
       "      <td>...</td>\n",
       "      <td>11236.0</td>\n",
       "      <td>1837123.0</td>\n",
       "      <td>39.807649</td>\n",
       "      <td>1849528.0</td>\n",
       "      <td>40.076446</td>\n",
       "      <td>1000968.0</td>\n",
       "      <td>29.755291</td>\n",
       "      <td>Wednesday</td>\n",
       "      <td>4</td>\n",
       "      <td>5</td>\n",
       "    </tr>\n",
       "  </tbody>\n",
       "</table>\n",
       "<p>5 rows × 33 columns</p>\n",
       "</div>"
      ],
      "text/plain": [
       "        cmplnt_num cmplnt_fr_dt cmplnt_fr_tm      rpt_dt  ky_cd  \\\n",
       "468359   429868522   2018-12-21     22:00 PM  2019-01-30    361   \n",
       "312106   188108430   2018-07-26     02:00 AM  2018-07-28    578   \n",
       "85157    791613704   2018-03-13     20:30 PM  2018-03-14    109   \n",
       "62483    327479634   2018-03-25     02:30 AM  2018-03-25    106   \n",
       "103681   766479303   2018-04-04     18:00 PM  2018-04-05    341   \n",
       "\n",
       "                           ofns_desc  pd_cd  \\\n",
       "468359  off_agnst_pub_ord_sensblty_&    639   \n",
       "312106                 harrassment_2    638   \n",
       "85157                  grand_larceny    457   \n",
       "62483                 felony_assault    109   \n",
       "103681                 petit_larceny    321   \n",
       "\n",
       "                                                  pd_desc   law_cat_cd  \\\n",
       "468359                            aggravated_harassment_2  misdemeanor   \n",
       "312106                              harassment_subd_3_4_5    violation   \n",
       "85157   larceny_grand_of_vehicular_motorcycle_accessories       felony   \n",
       "62483                            assault_2_1_unclassified       felony   \n",
       "103681                            larceny_petit_from_auto  misdemeanor   \n",
       "\n",
       "          boro_nm  ... zipcodes adjusted_gross_income_(agi)    avg_agi  \\\n",
       "468359  manhattan  ...  10039.0                    468538.0  34.965522   \n",
       "312106   brooklyn  ...  11211.0                   1791794.0  58.708847   \n",
       "85157      queens  ...  11354.0                   1008807.0  35.533885   \n",
       "62483       bronx  ...  10451.0                    647933.0  29.094432   \n",
       "103681   brooklyn  ...  11236.0                   1837123.0  39.807649   \n",
       "\n",
       "       total_income_amount  avg_total_income  taxable_income_amount  \\\n",
       "468359            473199.0         35.313358               268858.0   \n",
       "312106           1822086.0         59.701376              1283846.0   \n",
       "85157            1023869.0         36.064424               583770.0   \n",
       "62483             652966.0         29.320431               328360.0   \n",
       "103681           1849528.0         40.076446              1000968.0   \n",
       "\n",
       "       avg_taxable_income  dayofweek month cluster_num  \n",
       "468359          30.448245     Friday    12           6  \n",
       "312106          57.136004   Thursday     7          12  \n",
       "85157           37.808938    Tuesday     3           2  \n",
       "62483           23.674117     Sunday     3          11  \n",
       "103681          29.755291  Wednesday     4           5  \n",
       "\n",
       "[5 rows x 33 columns]"
      ]
     },
     "execution_count": 57,
     "metadata": {},
     "output_type": "execute_result"
    }
   ],
   "source": [
    "sample.head()"
   ]
  },
  {
   "cell_type": "code",
   "execution_count": 60,
   "metadata": {},
   "outputs": [
    {
     "data": {
      "text/plain": [
       "cmplnt_num                     182967\n",
       "cmplnt_fr_dt                      730\n",
       "cmplnt_fr_tm                     1440\n",
       "rpt_dt                            730\n",
       "ky_cd                              62\n",
       "ofns_desc                          59\n",
       "pd_cd                             329\n",
       "pd_desc                           320\n",
       "law_cat_cd                          3\n",
       "boro_nm                             6\n",
       "prem_typ_desc                      75\n",
       "susp_age_group                     16\n",
       "susp_race                           7\n",
       "susp_sex                            3\n",
       "latitude                        49953\n",
       "longitude                       50625\n",
       "patrol_boro                         9\n",
       "vic_age_group                       7\n",
       "vic_race                            7\n",
       "vic_sex                             5\n",
       "population                        182\n",
       "area                              187\n",
       "county                              5\n",
       "zipcodes                          182\n",
       "adjusted_gross_income_(agi)       182\n",
       "avg_agi                           182\n",
       "total_income_amount               182\n",
       "avg_total_income                  182\n",
       "taxable_income_amount             182\n",
       "avg_taxable_income                182\n",
       "dayofweek                           7\n",
       "month                              12\n",
       "cluster_num                        13\n",
       "dtype: int64"
      ]
     },
     "execution_count": 60,
     "metadata": {},
     "output_type": "execute_result"
    }
   ],
   "source": [
    "sample.nunique()"
   ]
  },
  {
   "cell_type": "code",
   "execution_count": 93,
   "metadata": {},
   "outputs": [
    {
     "data": {
      "text/plain": [
       "182"
      ]
     },
     "execution_count": 93,
     "metadata": {},
     "output_type": "execute_result"
    }
   ],
   "source": [
    "df.avg_agi.nunique()"
   ]
  },
  {
   "cell_type": "markdown",
   "metadata": {},
   "source": [
    "Note below: The \"unknown\" race value was fairly  evenly distributed through the clusters."
   ]
  },
  {
   "cell_type": "code",
   "execution_count": 95,
   "metadata": {},
   "outputs": [
    {
     "data": {
      "image/png": "[encoded data removed]",
      "text/plain": [
       "<Figure size 1152x864 with 1 Axes>"
      ]
     },
     "metadata": {
      "needs_background": "light"
     },
     "output_type": "display_data"
    }
   ],
   "source": [
    "known_race = sample[sample.susp_race != 'unknown']\n",
    "known_race.groupby('cluster_num').susp_race.value_counts(normalize = True).unstack().plot.bar(rot = 0, figsize = (16, 12))\n",
    "plt.title('Breakdown of Clusters by Suspect Race (Ratio)', fontsize = 15)\n",
    "plt.xlabel('Cluster Number', fontsize = 12)\n",
    "plt.ylabel('Ratio of race in each cluster', fontsize = 12);"
   ]
  },
  {
   "cell_type": "markdown",
   "metadata": {},
   "source": [
    "The distrubution of suspect race is almost the same for all clusters, so I do not think it was a significant contributer."
   ]
  },
  {
   "cell_type": "code",
   "execution_count": 98,
   "metadata": {},
   "outputs": [
    {
     "data": {
      "image/png": "[encoded data removed]",
      "text/plain": [
       "<Figure size 1152x864 with 1 Axes>"
      ]
     },
     "metadata": {
      "needs_background": "light"
     },
     "output_type": "display_data"
    }
   ],
   "source": [
    "sample.groupby('cluster_num').susp_sex.value_counts(normalize = True).unstack().plot.bar(rot = 0, figsize = (16, 12))\n",
    "plt.title('Breakdown of Clusters by Suspect Sex', fontsize = 15)\n",
    "plt.xlabel('Cluster Number', fontsize = 12)\n",
    "plt.ylabel('Ratio of entries in each cluster', fontsize = 12);"
   ]
  },
  {
   "cell_type": "markdown",
   "metadata": {},
   "source": [
    "There are no clusters where female suspects outweigh the other classes, so this is unlikely to be a feature that was clustered upon. However, clusters 1, 5, 11 and 12 have very different ratios in their grouping of suspect sex, so it is possible this is still a valuable feature."
   ]
  },
  {
   "cell_type": "code",
   "execution_count": 75,
   "metadata": {},
   "outputs": [
    {
     "data": {
      "text/plain": [
       "Index(['cmplnt_num', 'cmplnt_fr_dt', 'cmplnt_fr_tm', 'rpt_dt', 'ky_cd',\n",
       "       'ofns_desc', 'pd_cd', 'pd_desc', 'law_cat_cd', 'boro_nm',\n",
       "       'prem_typ_desc', 'susp_age_group', 'susp_race', 'susp_sex', 'latitude',\n",
       "       'longitude', 'patrol_boro', 'vic_age_group', 'vic_race', 'vic_sex',\n",
       "       'population', 'area', 'county', 'zipcodes',\n",
       "       'adjusted_gross_income_(agi)', 'avg_agi', 'total_income_amount',\n",
       "       'avg_total_income', 'taxable_income_amount', 'avg_taxable_income',\n",
       "       'dayofweek', 'month', 'cluster_num'],\n",
       "      dtype='object')"
      ]
     },
     "execution_count": 75,
     "metadata": {},
     "output_type": "execute_result"
    }
   ],
   "source": [
    "sample.columns"
   ]
  },
  {
   "cell_type": "code",
   "execution_count": 81,
   "metadata": {},
   "outputs": [
    {
     "data": {
      "text/plain": [
       "<matplotlib.axes._subplots.AxesSubplot at 0x7ff7adaa6be0>"
      ]
     },
     "execution_count": 81,
     "metadata": {},
     "output_type": "execute_result"
    },
    {
     "data": {
      "image/png": "[encoded data removed]",
      "text/plain": [
       "<Figure size 1152x864 with 1 Axes>"
      ]
     },
     "metadata": {
      "needs_background": "light"
     },
     "output_type": "display_data"
    }
   ],
   "source": [
    "sample.groupby('cluster_num').vic_race.value_counts().unstack().plot.bar(rot = 0, figsize = (16, 12))"
   ]
  },
  {
   "cell_type": "markdown",
   "metadata": {},
   "source": [
    "It certainly appears that cluster 8 and 9 heavily favor entries that do not have known victim race entries."
   ]
  },
  {
   "cell_type": "code",
   "execution_count": 80,
   "metadata": {},
   "outputs": [
    {
     "data": {
      "text/plain": [
       "<matplotlib.axes._subplots.AxesSubplot at 0x7ff68e917cf8>"
      ]
     },
     "execution_count": 80,
     "metadata": {},
     "output_type": "execute_result"
    },
    {
     "data": {
      "image/png": "[encoded data removed]",
      "text/plain": [
       "<Figure size 1152x864 with 1 Axes>"
      ]
     },
     "metadata": {
      "needs_background": "light"
     },
     "output_type": "display_data"
    }
   ],
   "source": [
    "sample.groupby('cluster_num').vic_sex.value_counts().unstack().plot.bar(rot = 0, figsize = (16, 12))"
   ]
  },
  {
   "cell_type": "code",
   "execution_count": 85,
   "metadata": {},
   "outputs": [
    {
     "data": {
      "image/png": "[encoded data removed]",
      "text/plain": [
       "<Figure size 1152x864 with 1 Axes>"
      ]
     },
     "metadata": {
      "needs_background": "light"
     },
     "output_type": "display_data"
    }
   ],
   "source": [
    "sample.groupby('cluster_num').month.value_counts(normalize = True).unstack().plot.bar(rot = 0, figsize = (16, 12))\n",
    "plt.title('Breakdown of Clusters by Month of the Year', fontsize = 15)\n",
    "plt.xlabel('Cluster Number', fontsize = 12)\n",
    "plt.ylabel('Number of entries in each cluster', fontsize = 12);"
   ]
  },
  {
   "cell_type": "markdown",
   "metadata": {},
   "source": [
    "With the exception of cluster 7 (which is by far the smallest cluster), this appears to be almost uniformly distributed, so month of the year was likely not a significant source of signal."
   ]
  }
 ],
 "metadata": {
  "kernelspec": {
   "display_name": "Python 3",
   "language": "python",
   "name": "python3"
  },
  "language_info": {
   "codemirror_mode": {
    "name": "ipython",
    "version": 3
   },
   "file_extension": ".py",
   "mimetype": "text/x-python",
   "name": "python",
   "nbconvert_exporter": "python",
   "pygments_lexer": "ipython3",
   "version": "3.7.3"
  }
 },
 "nbformat": 4,
 "nbformat_minor": 4
}
