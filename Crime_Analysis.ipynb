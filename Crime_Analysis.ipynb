{
 "cells": [
  {
   "cell_type": "code",
   "execution_count": 3,
   "metadata": {},
   "outputs": [],
   "source": [
    "import pandas as pd\n",
    "import numpy as np\n",
    "from sklearn.cluster import DBSCAN, KMeans\n",
    "from sklearn.preprocessing import StandardScaler\n",
    "from sklearn.metrics import silhouette_score\n",
    "\n",
    "import matplotlib.pyplot as plt\n",
    "%matplotlib inline\n",
    "import seaborn as sns"
   ]
  },
  {
   "cell_type": "markdown",
   "metadata": {},
   "source": [
    "## Exploratory Analysis of New York Crime Data\n",
    "---"
   ]
  },
  {
   "cell_type": "code",
   "execution_count": 4,
   "metadata": {},
   "outputs": [],
   "source": [
    "df = pd.read_csv('complaints_2018_final.csv')"
   ]
  },
  {
   "cell_type": "code",
   "execution_count": 18,
   "metadata": {},
   "outputs": [],
   "source": [
    "df.cmplnt_fr_dt = df.cmplnt_fr_dt.apply(lambda x: pd.to_datetime(x))"
   ]
  },
  {
   "cell_type": "code",
   "execution_count": 19,
   "metadata": {},
   "outputs": [],
   "source": [
    "df['dayofweek'] = df.cmplnt_fr_dt.apply(lambda x: x.day_name())\n",
    "df['month'] = df.cmplnt_fr_dt.apply(lambda x: x.month)"
   ]
  },
  {
   "cell_type": "code",
   "execution_count": 5,
   "metadata": {},
   "outputs": [
    {
     "data": {
      "text/html": [
       "<div>\n",
       "<style scoped>\n",
       "    .dataframe tbody tr th:only-of-type {\n",
       "        vertical-align: middle;\n",
       "    }\n",
       "\n",
       "    .dataframe tbody tr th {\n",
       "        vertical-align: top;\n",
       "    }\n",
       "\n",
       "    .dataframe thead th {\n",
       "        text-align: right;\n",
       "    }\n",
       "</style>\n",
       "<table border=\"1\" class=\"dataframe\">\n",
       "  <thead>\n",
       "    <tr style=\"text-align: right;\">\n",
       "      <th></th>\n",
       "      <th>cmplnt_num</th>\n",
       "      <th>cmplnt_fr_dt</th>\n",
       "      <th>cmplnt_fr_tm</th>\n",
       "      <th>rpt_dt</th>\n",
       "      <th>ky_cd</th>\n",
       "      <th>ofns_desc</th>\n",
       "      <th>pd_cd</th>\n",
       "      <th>pd_desc</th>\n",
       "      <th>law_cat_cd</th>\n",
       "      <th>boro_nm</th>\n",
       "      <th>...</th>\n",
       "      <th>population</th>\n",
       "      <th>area</th>\n",
       "      <th>county</th>\n",
       "      <th>zipcodes</th>\n",
       "      <th>adjusted_gross_income_(agi)</th>\n",
       "      <th>avg_agi</th>\n",
       "      <th>total_income_amount</th>\n",
       "      <th>avg_total_income</th>\n",
       "      <th>taxable_income_amount</th>\n",
       "      <th>avg_taxable_income</th>\n",
       "    </tr>\n",
       "  </thead>\n",
       "  <tbody>\n",
       "    <tr>\n",
       "      <th>0</th>\n",
       "      <td>453608592</td>\n",
       "      <td>2018-12-21</td>\n",
       "      <td>10:00 AM</td>\n",
       "      <td>2019-01-02</td>\n",
       "      <td>341</td>\n",
       "      <td>petit_larceny</td>\n",
       "      <td>338</td>\n",
       "      <td>larceny_petit_from_building_un</td>\n",
       "      <td>misdemeanor</td>\n",
       "      <td>manhattan</td>\n",
       "      <td>...</td>\n",
       "      <td>81305.0</td>\n",
       "      <td>2.628013e+07</td>\n",
       "      <td>New York</td>\n",
       "      <td>10002.0</td>\n",
       "      <td>2002349.0</td>\n",
       "      <td>46.126446</td>\n",
       "      <td>2033619.0</td>\n",
       "      <td>46.846786</td>\n",
       "      <td>1347603.0</td>\n",
       "      <td>52.867909</td>\n",
       "    </tr>\n",
       "    <tr>\n",
       "      <th>1</th>\n",
       "      <td>878647334</td>\n",
       "      <td>2018-10-17</td>\n",
       "      <td>14:30 PM</td>\n",
       "      <td>2019-01-15</td>\n",
       "      <td>341</td>\n",
       "      <td>petit_larceny</td>\n",
       "      <td>349</td>\n",
       "      <td>larceny_petit_of_license_plate</td>\n",
       "      <td>misdemeanor</td>\n",
       "      <td>queens</td>\n",
       "      <td>...</td>\n",
       "      <td>98436.0</td>\n",
       "      <td>1.247863e+08</td>\n",
       "      <td>Queens</td>\n",
       "      <td>11385.0</td>\n",
       "      <td>1929001.0</td>\n",
       "      <td>40.653340</td>\n",
       "      <td>1948325.0</td>\n",
       "      <td>41.060590</td>\n",
       "      <td>1141610.0</td>\n",
       "      <td>34.149267</td>\n",
       "    </tr>\n",
       "    <tr>\n",
       "      <th>2</th>\n",
       "      <td>128026914</td>\n",
       "      <td>2018-12-24</td>\n",
       "      <td>20:00 PM</td>\n",
       "      <td>2019-01-02</td>\n",
       "      <td>341</td>\n",
       "      <td>petit_larceny</td>\n",
       "      <td>349</td>\n",
       "      <td>larceny_petit_of_license_plate</td>\n",
       "      <td>misdemeanor</td>\n",
       "      <td>bronx</td>\n",
       "      <td>...</td>\n",
       "      <td>4438.0</td>\n",
       "      <td>1.158795e+07</td>\n",
       "      <td>Bronx</td>\n",
       "      <td>10464.0</td>\n",
       "      <td>163217.0</td>\n",
       "      <td>76.269626</td>\n",
       "      <td>165381.0</td>\n",
       "      <td>77.280841</td>\n",
       "      <td>116220.0</td>\n",
       "      <td>66.034091</td>\n",
       "    </tr>\n",
       "    <tr>\n",
       "      <th>3</th>\n",
       "      <td>997752766</td>\n",
       "      <td>2018-09-17</td>\n",
       "      <td>07:00 AM</td>\n",
       "      <td>2019-01-07</td>\n",
       "      <td>112</td>\n",
       "      <td>theft_fraud</td>\n",
       "      <td>739</td>\n",
       "      <td>fraud_unclassified_felony</td>\n",
       "      <td>felony</td>\n",
       "      <td>brooklyn</td>\n",
       "      <td>...</td>\n",
       "      <td>77354.0</td>\n",
       "      <td>4.355518e+07</td>\n",
       "      <td>Kings</td>\n",
       "      <td>11204.0</td>\n",
       "      <td>1606891.0</td>\n",
       "      <td>50.499403</td>\n",
       "      <td>1629709.0</td>\n",
       "      <td>51.216499</td>\n",
       "      <td>902117.0</td>\n",
       "      <td>47.680603</td>\n",
       "    </tr>\n",
       "    <tr>\n",
       "      <th>4</th>\n",
       "      <td>746011851</td>\n",
       "      <td>2018-09-04</td>\n",
       "      <td>10:00 AM</td>\n",
       "      <td>2019-12-09</td>\n",
       "      <td>116</td>\n",
       "      <td>sex_crimes</td>\n",
       "      <td>168</td>\n",
       "      <td>sodomy_1</td>\n",
       "      <td>felony</td>\n",
       "      <td>bronx</td>\n",
       "      <td>...</td>\n",
       "      <td>97932.0</td>\n",
       "      <td>6.933617e+07</td>\n",
       "      <td>Bronx</td>\n",
       "      <td>10467.0</td>\n",
       "      <td>1357285.0</td>\n",
       "      <td>31.616236</td>\n",
       "      <td>1368864.0</td>\n",
       "      <td>31.885954</td>\n",
       "      <td>710802.0</td>\n",
       "      <td>25.819179</td>\n",
       "    </tr>\n",
       "  </tbody>\n",
       "</table>\n",
       "<p>5 rows × 30 columns</p>\n",
       "</div>"
      ],
      "text/plain": [
       "   cmplnt_num cmplnt_fr_dt cmplnt_fr_tm      rpt_dt  ky_cd      ofns_desc  \\\n",
       "0   453608592   2018-12-21     10:00 AM  2019-01-02    341  petit_larceny   \n",
       "1   878647334   2018-10-17     14:30 PM  2019-01-15    341  petit_larceny   \n",
       "2   128026914   2018-12-24     20:00 PM  2019-01-02    341  petit_larceny   \n",
       "3   997752766   2018-09-17     07:00 AM  2019-01-07    112    theft_fraud   \n",
       "4   746011851   2018-09-04     10:00 AM  2019-12-09    116     sex_crimes   \n",
       "\n",
       "   pd_cd                         pd_desc   law_cat_cd    boro_nm  ...  \\\n",
       "0    338  larceny_petit_from_building_un  misdemeanor  manhattan  ...   \n",
       "1    349  larceny_petit_of_license_plate  misdemeanor     queens  ...   \n",
       "2    349  larceny_petit_of_license_plate  misdemeanor      bronx  ...   \n",
       "3    739       fraud_unclassified_felony       felony   brooklyn  ...   \n",
       "4    168                        sodomy_1       felony      bronx  ...   \n",
       "\n",
       "  population          area    county zipcodes  adjusted_gross_income_(agi)  \\\n",
       "0    81305.0  2.628013e+07  New York  10002.0                    2002349.0   \n",
       "1    98436.0  1.247863e+08    Queens  11385.0                    1929001.0   \n",
       "2     4438.0  1.158795e+07     Bronx  10464.0                     163217.0   \n",
       "3    77354.0  4.355518e+07     Kings  11204.0                    1606891.0   \n",
       "4    97932.0  6.933617e+07     Bronx  10467.0                    1357285.0   \n",
       "\n",
       "     avg_agi total_income_amount avg_total_income taxable_income_amount  \\\n",
       "0  46.126446           2033619.0        46.846786             1347603.0   \n",
       "1  40.653340           1948325.0        41.060590             1141610.0   \n",
       "2  76.269626            165381.0        77.280841              116220.0   \n",
       "3  50.499403           1629709.0        51.216499              902117.0   \n",
       "4  31.616236           1368864.0        31.885954              710802.0   \n",
       "\n",
       "  avg_taxable_income  \n",
       "0          52.867909  \n",
       "1          34.149267  \n",
       "2          66.034091  \n",
       "3          47.680603  \n",
       "4          25.819179  \n",
       "\n",
       "[5 rows x 30 columns]"
      ]
     },
     "execution_count": 5,
     "metadata": {},
     "output_type": "execute_result"
    }
   ],
   "source": [
    "df.head()"
   ]
  },
  {
   "cell_type": "code",
   "execution_count": 6,
   "metadata": {},
   "outputs": [
    {
     "data": {
      "text/plain": [
       "cmplnt_num                       int64\n",
       "cmplnt_fr_dt                    object\n",
       "cmplnt_fr_tm                    object\n",
       "rpt_dt                          object\n",
       "ky_cd                            int64\n",
       "ofns_desc                       object\n",
       "pd_cd                            int64\n",
       "pd_desc                         object\n",
       "law_cat_cd                      object\n",
       "boro_nm                         object\n",
       "prem_typ_desc                   object\n",
       "susp_age_group                  object\n",
       "susp_race                       object\n",
       "susp_sex                        object\n",
       "latitude                       float64\n",
       "longitude                      float64\n",
       "patrol_boro                     object\n",
       "vic_age_group                   object\n",
       "vic_race                        object\n",
       "vic_sex                         object\n",
       "population                     float64\n",
       "area                           float64\n",
       "county                          object\n",
       "zipcodes                       float64\n",
       "adjusted_gross_income_(agi)    float64\n",
       "avg_agi                        float64\n",
       "total_income_amount            float64\n",
       "avg_total_income               float64\n",
       "taxable_income_amount          float64\n",
       "avg_taxable_income             float64\n",
       "dtype: object"
      ]
     },
     "execution_count": 6,
     "metadata": {},
     "output_type": "execute_result"
    }
   ],
   "source": [
    "df.isnull().sum()\n",
    "df.dtypes"
   ]
  },
  {
   "cell_type": "code",
   "execution_count": 8,
   "metadata": {},
   "outputs": [
    {
     "data": {
      "text/html": [
       "<div>\n",
       "<style scoped>\n",
       "    .dataframe tbody tr th:only-of-type {\n",
       "        vertical-align: middle;\n",
       "    }\n",
       "\n",
       "    .dataframe tbody tr th {\n",
       "        vertical-align: top;\n",
       "    }\n",
       "\n",
       "    .dataframe thead th {\n",
       "        text-align: right;\n",
       "    }\n",
       "</style>\n",
       "<table border=\"1\" class=\"dataframe\">\n",
       "  <thead>\n",
       "    <tr style=\"text-align: right;\">\n",
       "      <th></th>\n",
       "      <th>cmplnt_num</th>\n",
       "      <th>cmplnt_fr_dt</th>\n",
       "      <th>cmplnt_fr_tm</th>\n",
       "      <th>rpt_dt</th>\n",
       "      <th>ky_cd</th>\n",
       "      <th>ofns_desc</th>\n",
       "      <th>pd_cd</th>\n",
       "      <th>pd_desc</th>\n",
       "      <th>law_cat_cd</th>\n",
       "      <th>boro_nm</th>\n",
       "      <th>...</th>\n",
       "      <th>county</th>\n",
       "      <th>zipcodes</th>\n",
       "      <th>adjusted_gross_income_(agi)</th>\n",
       "      <th>avg_agi</th>\n",
       "      <th>total_income_amount</th>\n",
       "      <th>avg_total_income</th>\n",
       "      <th>taxable_income_amount</th>\n",
       "      <th>avg_taxable_income</th>\n",
       "      <th>dayofweek</th>\n",
       "      <th>month</th>\n",
       "    </tr>\n",
       "  </thead>\n",
       "  <tbody>\n",
       "    <tr>\n",
       "      <th>0</th>\n",
       "      <td>453608592</td>\n",
       "      <td>2018-12-21</td>\n",
       "      <td>10:00 AM</td>\n",
       "      <td>2019-01-02</td>\n",
       "      <td>341</td>\n",
       "      <td>petit_larceny</td>\n",
       "      <td>338</td>\n",
       "      <td>larceny_petit_from_building_un</td>\n",
       "      <td>misdemeanor</td>\n",
       "      <td>manhattan</td>\n",
       "      <td>...</td>\n",
       "      <td>New York</td>\n",
       "      <td>10002.0</td>\n",
       "      <td>2002349.0</td>\n",
       "      <td>46.126446</td>\n",
       "      <td>2033619.0</td>\n",
       "      <td>46.846786</td>\n",
       "      <td>1347603.0</td>\n",
       "      <td>52.867909</td>\n",
       "      <td>Friday</td>\n",
       "      <td>12</td>\n",
       "    </tr>\n",
       "    <tr>\n",
       "      <th>1</th>\n",
       "      <td>878647334</td>\n",
       "      <td>2018-10-17</td>\n",
       "      <td>14:30 PM</td>\n",
       "      <td>2019-01-15</td>\n",
       "      <td>341</td>\n",
       "      <td>petit_larceny</td>\n",
       "      <td>349</td>\n",
       "      <td>larceny_petit_of_license_plate</td>\n",
       "      <td>misdemeanor</td>\n",
       "      <td>queens</td>\n",
       "      <td>...</td>\n",
       "      <td>Queens</td>\n",
       "      <td>11385.0</td>\n",
       "      <td>1929001.0</td>\n",
       "      <td>40.653340</td>\n",
       "      <td>1948325.0</td>\n",
       "      <td>41.060590</td>\n",
       "      <td>1141610.0</td>\n",
       "      <td>34.149267</td>\n",
       "      <td>Wednesday</td>\n",
       "      <td>10</td>\n",
       "    </tr>\n",
       "    <tr>\n",
       "      <th>2</th>\n",
       "      <td>128026914</td>\n",
       "      <td>2018-12-24</td>\n",
       "      <td>20:00 PM</td>\n",
       "      <td>2019-01-02</td>\n",
       "      <td>341</td>\n",
       "      <td>petit_larceny</td>\n",
       "      <td>349</td>\n",
       "      <td>larceny_petit_of_license_plate</td>\n",
       "      <td>misdemeanor</td>\n",
       "      <td>bronx</td>\n",
       "      <td>...</td>\n",
       "      <td>Bronx</td>\n",
       "      <td>10464.0</td>\n",
       "      <td>163217.0</td>\n",
       "      <td>76.269626</td>\n",
       "      <td>165381.0</td>\n",
       "      <td>77.280841</td>\n",
       "      <td>116220.0</td>\n",
       "      <td>66.034091</td>\n",
       "      <td>Monday</td>\n",
       "      <td>12</td>\n",
       "    </tr>\n",
       "    <tr>\n",
       "      <th>3</th>\n",
       "      <td>997752766</td>\n",
       "      <td>2018-09-17</td>\n",
       "      <td>07:00 AM</td>\n",
       "      <td>2019-01-07</td>\n",
       "      <td>112</td>\n",
       "      <td>theft_fraud</td>\n",
       "      <td>739</td>\n",
       "      <td>fraud_unclassified_felony</td>\n",
       "      <td>felony</td>\n",
       "      <td>brooklyn</td>\n",
       "      <td>...</td>\n",
       "      <td>Kings</td>\n",
       "      <td>11204.0</td>\n",
       "      <td>1606891.0</td>\n",
       "      <td>50.499403</td>\n",
       "      <td>1629709.0</td>\n",
       "      <td>51.216499</td>\n",
       "      <td>902117.0</td>\n",
       "      <td>47.680603</td>\n",
       "      <td>Monday</td>\n",
       "      <td>9</td>\n",
       "    </tr>\n",
       "    <tr>\n",
       "      <th>4</th>\n",
       "      <td>746011851</td>\n",
       "      <td>2018-09-04</td>\n",
       "      <td>10:00 AM</td>\n",
       "      <td>2019-12-09</td>\n",
       "      <td>116</td>\n",
       "      <td>sex_crimes</td>\n",
       "      <td>168</td>\n",
       "      <td>sodomy_1</td>\n",
       "      <td>felony</td>\n",
       "      <td>bronx</td>\n",
       "      <td>...</td>\n",
       "      <td>Bronx</td>\n",
       "      <td>10467.0</td>\n",
       "      <td>1357285.0</td>\n",
       "      <td>31.616236</td>\n",
       "      <td>1368864.0</td>\n",
       "      <td>31.885954</td>\n",
       "      <td>710802.0</td>\n",
       "      <td>25.819179</td>\n",
       "      <td>Tuesday</td>\n",
       "      <td>9</td>\n",
       "    </tr>\n",
       "  </tbody>\n",
       "</table>\n",
       "<p>5 rows × 32 columns</p>\n",
       "</div>"
      ],
      "text/plain": [
       "   cmplnt_num cmplnt_fr_dt cmplnt_fr_tm      rpt_dt  ky_cd      ofns_desc  \\\n",
       "0   453608592   2018-12-21     10:00 AM  2019-01-02    341  petit_larceny   \n",
       "1   878647334   2018-10-17     14:30 PM  2019-01-15    341  petit_larceny   \n",
       "2   128026914   2018-12-24     20:00 PM  2019-01-02    341  petit_larceny   \n",
       "3   997752766   2018-09-17     07:00 AM  2019-01-07    112    theft_fraud   \n",
       "4   746011851   2018-09-04     10:00 AM  2019-12-09    116     sex_crimes   \n",
       "\n",
       "   pd_cd                         pd_desc   law_cat_cd    boro_nm  ...  \\\n",
       "0    338  larceny_petit_from_building_un  misdemeanor  manhattan  ...   \n",
       "1    349  larceny_petit_of_license_plate  misdemeanor     queens  ...   \n",
       "2    349  larceny_petit_of_license_plate  misdemeanor      bronx  ...   \n",
       "3    739       fraud_unclassified_felony       felony   brooklyn  ...   \n",
       "4    168                        sodomy_1       felony      bronx  ...   \n",
       "\n",
       "     county zipcodes adjusted_gross_income_(agi)    avg_agi  \\\n",
       "0  New York  10002.0                   2002349.0  46.126446   \n",
       "1    Queens  11385.0                   1929001.0  40.653340   \n",
       "2     Bronx  10464.0                    163217.0  76.269626   \n",
       "3     Kings  11204.0                   1606891.0  50.499403   \n",
       "4     Bronx  10467.0                   1357285.0  31.616236   \n",
       "\n",
       "   total_income_amount  avg_total_income taxable_income_amount  \\\n",
       "0            2033619.0         46.846786             1347603.0   \n",
       "1            1948325.0         41.060590             1141610.0   \n",
       "2             165381.0         77.280841              116220.0   \n",
       "3            1629709.0         51.216499              902117.0   \n",
       "4            1368864.0         31.885954              710802.0   \n",
       "\n",
       "  avg_taxable_income  dayofweek month  \n",
       "0          52.867909     Friday    12  \n",
       "1          34.149267  Wednesday    10  \n",
       "2          66.034091     Monday    12  \n",
       "3          47.680603     Monday     9  \n",
       "4          25.819179    Tuesday     9  \n",
       "\n",
       "[5 rows x 32 columns]"
      ]
     },
     "execution_count": 8,
     "metadata": {},
     "output_type": "execute_result"
    }
   ],
   "source": [
    "df.head()"
   ]
  },
  {
   "cell_type": "code",
   "execution_count": 13,
   "metadata": {},
   "outputs": [
    {
     "data": {
      "text/plain": [
       "Index(['cmplnt_num', 'cmplnt_fr_dt', 'cmplnt_fr_tm', 'rpt_dt', 'ky_cd',\n",
       "       'ofns_desc', 'pd_cd', 'pd_desc', 'law_cat_cd', 'boro_nm',\n",
       "       'prem_typ_desc', 'susp_age_group', 'susp_race', 'susp_sex', 'latitude',\n",
       "       'longitude', 'patrol_boro', 'vic_age_group', 'vic_race', 'vic_sex',\n",
       "       'population', 'area', 'county', 'zipcodes',\n",
       "       'adjusted_gross_income_(agi)', 'avg_agi', 'total_income_amount',\n",
       "       'avg_total_income', 'taxable_income_amount', 'avg_taxable_income'],\n",
       "      dtype='object')"
      ]
     },
     "execution_count": 13,
     "metadata": {},
     "output_type": "execute_result"
    }
   ],
   "source": [
    "df.columns"
   ]
  },
  {
   "cell_type": "code",
   "execution_count": 22,
   "metadata": {},
   "outputs": [
    {
     "data": {
      "text/plain": [
       "12"
      ]
     },
     "execution_count": 22,
     "metadata": {},
     "output_type": "execute_result"
    }
   ],
   "source": [
    "df.month.nunique()"
   ]
  },
  {
   "cell_type": "code",
   "execution_count": 20,
   "metadata": {},
   "outputs": [],
   "source": [
    "#What I plan to dummy later, since they are object type data\n",
    "morons = ['ofns_desc','pd_desc', 'law_cat_cd', 'boro_nm',\n",
    "       'prem_typ_desc', 'susp_age_group', 'susp_race', 'susp_sex','patrol_boro', 'vic_age_group', 'vic_race', 'vic_sex',\n",
    "       'population', 'area', 'county', 'zipcodes','dayofweek']"
   ]
  },
  {
   "cell_type": "code",
   "execution_count": 23,
   "metadata": {},
   "outputs": [],
   "source": [
    "X = df.drop(columns = ['cmplnt_num','cmplnt_fr_dt', 'cmplnt_fr_tm', 'rpt_dt'])\n",
    "X = pd.get_dummies(X, columns = morons, drop_first = True)"
   ]
  },
  {
   "cell_type": "code",
   "execution_count": 26,
   "metadata": {},
   "outputs": [],
   "source": [
    "X.shape\n",
    "sc = StandardScaler()\n",
    "Z = sc.fit_transform(X)"
   ]
  },
  {
   "cell_type": "code",
   "execution_count": 41,
   "metadata": {},
   "outputs": [],
   "source": [
    "def elbow(Z, low = 2, high = 8):\n",
    "    things = []\n",
    "    for clusters in range(low, high):\n",
    "        kmeans = KMeans(n_clusters=clusters,\n",
    "                        random_state=42)\n",
    "        kmeans.fit(Z)\n",
    "        things.append(kmeans.inertia_)\n",
    "\n",
    "    plt.plot(list(range(low, high)), things, marker='o')\n",
    "    plt.title('The Elbow Method')\n",
    "    plt.xlabel('Number of Clusters')\n",
    "    plt.ylabel('Sum of Squared Distance from Centroid')"
   ]
  },
  {
   "cell_type": "code",
   "execution_count": 30,
   "metadata": {},
   "outputs": [
    {
     "name": "stdout",
     "output_type": "stream",
     "text": [
      "CPU times: user 43min 50s, sys: 2h 1min 55s, total: 2h 45min 46s\n",
      "Wall time: 5h 20min 27s\n"
     ]
    },
    {
     "data": {
      "text/plain": [
       "KMeans(n_clusters=3)"
      ]
     },
     "execution_count": 30,
     "metadata": {},
     "output_type": "execute_result"
    }
   ],
   "source": [
    "%%time\n",
    "km = KMeans(n_clusters = 3)\n",
    "km.fit(Z)"
   ]
  },
  {
   "cell_type": "markdown",
   "metadata": {},
   "source": [
    "This data is simply too large to analyze under time contraints. I will have to settle for sampling a small subset of the data.\n",
    "\n",
    "## Subset Analysis\n",
    "---"
   ]
  },
  {
   "cell_type": "code",
   "execution_count": 35,
   "metadata": {},
   "outputs": [],
   "source": [
    "sample = df.sample(frac = .15)"
   ]
  },
  {
   "cell_type": "code",
   "execution_count": 38,
   "metadata": {},
   "outputs": [],
   "source": [
    "X = sample.drop(columns = ['cmplnt_num','cmplnt_fr_dt', 'cmplnt_fr_tm', 'rpt_dt'])\n",
    "X = pd.get_dummies(X, columns = morons, drop_first = True)\n",
    "\n",
    "Z = sc.fit_transform(X)"
   ]
  },
  {
   "cell_type": "code",
   "execution_count": 39,
   "metadata": {},
   "outputs": [
    {
     "name": "stdout",
     "output_type": "stream",
     "text": [
      "CPU times: user 8min 5s, sys: 25.9 s, total: 8min 31s\n",
      "Wall time: 2min 3s\n"
     ]
    },
    {
     "data": {
      "image/png": "[encoded data removed]",
      "text/plain": [
       "<Figure size 432x288 with 1 Axes>"
      ]
     },
     "metadata": {
      "needs_background": "light"
     },
     "output_type": "display_data"
    }
   ],
   "source": [
    "%%time\n",
    "elbow(Z)"
   ]
  },
  {
   "cell_type": "code",
   "execution_count": 42,
   "metadata": {},
   "outputs": [
    {
     "name": "stdout",
     "output_type": "stream",
     "text": [
      "CPU times: user 9min 36s, sys: 21.7 s, total: 9min 58s\n",
      "Wall time: 2min 21s\n"
     ]
    },
    {
     "data": {
      "image/png": "[encoded data removed]",
      "text/plain": [
       "<Figure size 432x288 with 1 Axes>"
      ]
     },
     "metadata": {
      "needs_background": "light"
     },
     "output_type": "display_data"
    }
   ],
   "source": [
    "%%time\n",
    "elbow(Z, low = 8, high = 12)"
   ]
  },
  {
   "cell_type": "markdown",
   "metadata": {},
   "source": [
    "It looks like there's not one good option to use here. I'll try 4 and 5."
   ]
  },
  {
   "cell_type": "code",
   "execution_count": 44,
   "metadata": {},
   "outputs": [
    {
     "name": "stdout",
     "output_type": "stream",
     "text": [
      "CPU times: user 1min 24s, sys: 3.72 s, total: 1min 28s\n",
      "Wall time: 19.8 s\n"
     ]
    },
    {
     "data": {
      "text/plain": [
       "KMeans(n_clusters=4)"
      ]
     },
     "execution_count": 44,
     "metadata": {},
     "output_type": "execute_result"
    }
   ],
   "source": [
    "%%time\n",
    "km = KMeans(n_clusters = 4)\n",
    "km.fit(Z)"
   ]
  },
  {
   "cell_type": "code",
   "execution_count": 45,
   "metadata": {},
   "outputs": [
    {
     "data": {
      "text/plain": [
       "-0.07514942899231042"
      ]
     },
     "execution_count": 45,
     "metadata": {},
     "output_type": "execute_result"
    }
   ],
   "source": [
    "silhouette_score(Z, km.labels_)"
   ]
  },
  {
   "cell_type": "code",
   "execution_count": 46,
   "metadata": {},
   "outputs": [
    {
     "data": {
      "text/plain": [
       "KMeans(n_clusters=5)"
      ]
     },
     "execution_count": 46,
     "metadata": {},
     "output_type": "execute_result"
    }
   ],
   "source": [
    "km = KMeans(n_clusters = 5)\n",
    "km.fit(Z)"
   ]
  },
  {
   "cell_type": "code",
   "execution_count": 47,
   "metadata": {},
   "outputs": [
    {
     "data": {
      "text/plain": [
       "-0.07233418216228406"
      ]
     },
     "execution_count": 47,
     "metadata": {},
     "output_type": "execute_result"
    }
   ],
   "source": [
    "silhouette_scorehouette_score(Z, km.labels_)"
   ]
  },
  {
   "cell_type": "markdown",
   "metadata": {},
   "source": [
    "It is beginning to appear that this analyis will simply be confirmation that this data has very little correlations to be found within it, which would explain the relatively poor performance of modelling in other notebooks.\n",
    "\n",
    "## DBSCAN attempt\n",
    "---"
   ]
  },
  {
   "cell_type": "code",
   "execution_count": null,
   "metadata": {},
   "outputs": [],
   "source": [
    "db = DBSCAN()"
   ]
  }
 ],
 "metadata": {
  "kernelspec": {
   "display_name": "Python 3",
   "language": "python",
   "name": "python3"
  },
  "language_info": {
   "codemirror_mode": {
    "name": "ipython",
    "version": 3
   },
   "file_extension": ".py",
   "mimetype": "text/x-python",
   "name": "python",
   "nbconvert_exporter": "python",
   "pygments_lexer": "ipython3",
   "version": "3.7.3"
  }
 },
 "nbformat": 4,
 "nbformat_minor": 4
}
