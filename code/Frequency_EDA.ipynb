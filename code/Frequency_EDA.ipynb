{
 "cells": [
  {
   "cell_type": "markdown",
   "metadata": {},
   "source": [
    "# Frequency EDA"
   ]
  },
  {
   "cell_type": "code",
   "execution_count": 1,
   "metadata": {},
   "outputs": [],
   "source": [
    "#Import Libraries\n",
    "import pandas as pd\n",
    "import numpy as np\n",
    "import matplotlib.pyplot as plt\n",
    "import seaborn as sns"
   ]
  },
  {
   "cell_type": "code",
   "execution_count": null,
   "metadata": {},
   "outputs": [],
   "source": [
    "#Import cleaned data\n",
    "df = pd.read_csv('complaints_2018_final.csv')"
   ]
  },
  {
   "cell_type": "code",
   "execution_count": 2,
   "metadata": {},
   "outputs": [],
   "source": [
    "#changed complaint date to datatime\n",
    "df.cmplnt_fr_dt = df.cmplnt_fr_dt.apply(lambda x: pd.to_datetime(x))"
   ]
  },
  {
   "cell_type": "code",
   "execution_count": 3,
   "metadata": {},
   "outputs": [
    {
     "data": {
      "text/html": [
       "<div>\n",
       "<style scoped>\n",
       "    .dataframe tbody tr th:only-of-type {\n",
       "        vertical-align: middle;\n",
       "    }\n",
       "\n",
       "    .dataframe tbody tr th {\n",
       "        vertical-align: top;\n",
       "    }\n",
       "\n",
       "    .dataframe thead th {\n",
       "        text-align: right;\n",
       "    }\n",
       "</style>\n",
       "<table border=\"1\" class=\"dataframe\">\n",
       "  <thead>\n",
       "    <tr style=\"text-align: right;\">\n",
       "      <th></th>\n",
       "      <th>cmplnt_num</th>\n",
       "      <th>cmplnt_fr_dt</th>\n",
       "      <th>cmplnt_fr_tm</th>\n",
       "      <th>cmplnt_to_dt</th>\n",
       "      <th>cmplnt_to_tm</th>\n",
       "      <th>addr_pct_cd</th>\n",
       "      <th>rpt_dt</th>\n",
       "      <th>ky_cd</th>\n",
       "      <th>ofns_desc</th>\n",
       "      <th>pd_cd</th>\n",
       "      <th>...</th>\n",
       "      <th>population</th>\n",
       "      <th>area</th>\n",
       "      <th>county</th>\n",
       "      <th>zipcodes</th>\n",
       "      <th>adjusted_gross_income_(agi)</th>\n",
       "      <th>avg_agi</th>\n",
       "      <th>total_income_amount</th>\n",
       "      <th>avg_total_income</th>\n",
       "      <th>taxable_income_amount</th>\n",
       "      <th>avg_taxable_income</th>\n",
       "    </tr>\n",
       "  </thead>\n",
       "  <tbody>\n",
       "    <tr>\n",
       "      <th>0</th>\n",
       "      <td>453608592</td>\n",
       "      <td>2018-12-21</td>\n",
       "      <td>10:00 AM</td>\n",
       "      <td>2018-12-21</td>\n",
       "      <td>14:00:00</td>\n",
       "      <td>7.0</td>\n",
       "      <td>2019-01-02</td>\n",
       "      <td>341</td>\n",
       "      <td>petit_larceny</td>\n",
       "      <td>338</td>\n",
       "      <td>...</td>\n",
       "      <td>81305.0</td>\n",
       "      <td>2.628013e+07</td>\n",
       "      <td>New York</td>\n",
       "      <td>10002.0</td>\n",
       "      <td>2002349.0</td>\n",
       "      <td>46.126446</td>\n",
       "      <td>2033619.0</td>\n",
       "      <td>46.846786</td>\n",
       "      <td>1347603.0</td>\n",
       "      <td>52.867909</td>\n",
       "    </tr>\n",
       "    <tr>\n",
       "      <th>1</th>\n",
       "      <td>878647334</td>\n",
       "      <td>2018-10-17</td>\n",
       "      <td>14:30 PM</td>\n",
       "      <td>2018-10-18</td>\n",
       "      <td>18:40:00</td>\n",
       "      <td>104.0</td>\n",
       "      <td>2019-01-15</td>\n",
       "      <td>341</td>\n",
       "      <td>petit_larceny</td>\n",
       "      <td>349</td>\n",
       "      <td>...</td>\n",
       "      <td>98436.0</td>\n",
       "      <td>1.247863e+08</td>\n",
       "      <td>Queens</td>\n",
       "      <td>11385.0</td>\n",
       "      <td>1929001.0</td>\n",
       "      <td>40.653340</td>\n",
       "      <td>1948325.0</td>\n",
       "      <td>41.060590</td>\n",
       "      <td>1141610.0</td>\n",
       "      <td>34.149267</td>\n",
       "    </tr>\n",
       "    <tr>\n",
       "      <th>2</th>\n",
       "      <td>128026914</td>\n",
       "      <td>2018-12-24</td>\n",
       "      <td>20:00 PM</td>\n",
       "      <td>NaN</td>\n",
       "      <td>NaN</td>\n",
       "      <td>45.0</td>\n",
       "      <td>2019-01-02</td>\n",
       "      <td>341</td>\n",
       "      <td>petit_larceny</td>\n",
       "      <td>349</td>\n",
       "      <td>...</td>\n",
       "      <td>4438.0</td>\n",
       "      <td>1.158795e+07</td>\n",
       "      <td>Bronx</td>\n",
       "      <td>10464.0</td>\n",
       "      <td>163217.0</td>\n",
       "      <td>76.269626</td>\n",
       "      <td>165381.0</td>\n",
       "      <td>77.280841</td>\n",
       "      <td>116220.0</td>\n",
       "      <td>66.034091</td>\n",
       "    </tr>\n",
       "    <tr>\n",
       "      <th>3</th>\n",
       "      <td>997752766</td>\n",
       "      <td>2018-09-17</td>\n",
       "      <td>07:00 AM</td>\n",
       "      <td>NaN</td>\n",
       "      <td>NaN</td>\n",
       "      <td>62.0</td>\n",
       "      <td>2019-01-07</td>\n",
       "      <td>112</td>\n",
       "      <td>theft_fraud</td>\n",
       "      <td>739</td>\n",
       "      <td>...</td>\n",
       "      <td>77354.0</td>\n",
       "      <td>4.355518e+07</td>\n",
       "      <td>Kings</td>\n",
       "      <td>11204.0</td>\n",
       "      <td>1606891.0</td>\n",
       "      <td>50.499403</td>\n",
       "      <td>1629709.0</td>\n",
       "      <td>51.216499</td>\n",
       "      <td>902117.0</td>\n",
       "      <td>47.680603</td>\n",
       "    </tr>\n",
       "    <tr>\n",
       "      <th>4</th>\n",
       "      <td>746011851</td>\n",
       "      <td>2018-09-04</td>\n",
       "      <td>10:00 AM</td>\n",
       "      <td>NaN</td>\n",
       "      <td>NaN</td>\n",
       "      <td>52.0</td>\n",
       "      <td>2019-12-09</td>\n",
       "      <td>116</td>\n",
       "      <td>sex_crimes</td>\n",
       "      <td>168</td>\n",
       "      <td>...</td>\n",
       "      <td>97932.0</td>\n",
       "      <td>6.933617e+07</td>\n",
       "      <td>Bronx</td>\n",
       "      <td>10467.0</td>\n",
       "      <td>1357285.0</td>\n",
       "      <td>31.616236</td>\n",
       "      <td>1368864.0</td>\n",
       "      <td>31.885954</td>\n",
       "      <td>710802.0</td>\n",
       "      <td>25.819179</td>\n",
       "    </tr>\n",
       "  </tbody>\n",
       "</table>\n",
       "<p>5 rows × 34 columns</p>\n",
       "</div>"
      ],
      "text/plain": [
       "   cmplnt_num cmplnt_fr_dt cmplnt_fr_tm cmplnt_to_dt cmplnt_to_tm  \\\n",
       "0   453608592   2018-12-21     10:00 AM   2018-12-21     14:00:00   \n",
       "1   878647334   2018-10-17     14:30 PM   2018-10-18     18:40:00   \n",
       "2   128026914   2018-12-24     20:00 PM          NaN          NaN   \n",
       "3   997752766   2018-09-17     07:00 AM          NaN          NaN   \n",
       "4   746011851   2018-09-04     10:00 AM          NaN          NaN   \n",
       "\n",
       "   addr_pct_cd      rpt_dt  ky_cd      ofns_desc  pd_cd  ... population  \\\n",
       "0          7.0  2019-01-02    341  petit_larceny    338  ...    81305.0   \n",
       "1        104.0  2019-01-15    341  petit_larceny    349  ...    98436.0   \n",
       "2         45.0  2019-01-02    341  petit_larceny    349  ...     4438.0   \n",
       "3         62.0  2019-01-07    112    theft_fraud    739  ...    77354.0   \n",
       "4         52.0  2019-12-09    116     sex_crimes    168  ...    97932.0   \n",
       "\n",
       "           area    county zipcodes adjusted_gross_income_(agi)    avg_agi  \\\n",
       "0  2.628013e+07  New York  10002.0                   2002349.0  46.126446   \n",
       "1  1.247863e+08    Queens  11385.0                   1929001.0  40.653340   \n",
       "2  1.158795e+07     Bronx  10464.0                    163217.0  76.269626   \n",
       "3  4.355518e+07     Kings  11204.0                   1606891.0  50.499403   \n",
       "4  6.933617e+07     Bronx  10467.0                   1357285.0  31.616236   \n",
       "\n",
       "  total_income_amount  avg_total_income  taxable_income_amount  \\\n",
       "0           2033619.0         46.846786              1347603.0   \n",
       "1           1948325.0         41.060590              1141610.0   \n",
       "2            165381.0         77.280841               116220.0   \n",
       "3           1629709.0         51.216499               902117.0   \n",
       "4           1368864.0         31.885954               710802.0   \n",
       "\n",
       "  avg_taxable_income  \n",
       "0          52.867909  \n",
       "1          34.149267  \n",
       "2          66.034091  \n",
       "3          47.680603  \n",
       "4          25.819179  \n",
       "\n",
       "[5 rows x 34 columns]"
      ]
     },
     "execution_count": 3,
     "metadata": {},
     "output_type": "execute_result"
    }
   ],
   "source": [
    "df.head()"
   ]
  },
  {
   "cell_type": "code",
   "execution_count": 4,
   "metadata": {},
   "outputs": [
    {
     "data": {
      "text/plain": [
       "cmplnt_num                          0\n",
       "cmplnt_fr_dt                        0\n",
       "cmplnt_fr_tm                        0\n",
       "cmplnt_to_dt                   121989\n",
       "cmplnt_to_tm                   121493\n",
       "addr_pct_cd                         0\n",
       "rpt_dt                              0\n",
       "ky_cd                               0\n",
       "ofns_desc                           0\n",
       "pd_cd                               0\n",
       "pd_desc                             0\n",
       "law_cat_cd                          0\n",
       "boro_nm                             0\n",
       "prem_typ_desc                       0\n",
       "susp_age_group                      0\n",
       "susp_race                           0\n",
       "susp_sex                            0\n",
       "latitude                            0\n",
       "longitude                           0\n",
       "patrol_boro                         0\n",
       "vic_age_group                       0\n",
       "vic_race                            0\n",
       "vic_sex                             0\n",
       "neighborhood                      615\n",
       "population                          0\n",
       "area                                0\n",
       "county                              0\n",
       "zipcodes                            0\n",
       "adjusted_gross_income_(agi)         0\n",
       "avg_agi                             0\n",
       "total_income_amount                 0\n",
       "avg_total_income                    0\n",
       "taxable_income_amount               0\n",
       "avg_taxable_income                  0\n",
       "dtype: int64"
      ]
     },
     "execution_count": 4,
     "metadata": {},
     "output_type": "execute_result"
    }
   ],
   "source": [
    "#check for nulls\n",
    "df.isnull().sum() # These nulls are for complaints solved on a different date"
   ]
  },
  {
   "cell_type": "code",
   "execution_count": 17,
   "metadata": {},
   "outputs": [
    {
     "data": {
      "text/plain": [
       "0                        petit_larceny\n",
       "1                        petit_larceny\n",
       "2                        petit_larceny\n",
       "3                          theft_fraud\n",
       "4                           sex_crimes\n",
       "                      ...             \n",
       "917451                   petit_larceny\n",
       "917452    assault_3_&_related_offenses\n",
       "917453                   petit_larceny\n",
       "917454                   petit_larceny\n",
       "917455                   petit_larceny\n",
       "Name: ofns_desc, Length: 917456, dtype: object"
      ]
     },
     "execution_count": 17,
     "metadata": {},
     "output_type": "execute_result"
    }
   ],
   "source": [
    "#checking offense column\n",
    "df['ofns_desc']"
   ]
  },
  {
   "cell_type": "code",
   "execution_count": 18,
   "metadata": {},
   "outputs": [],
   "source": [
    "#Relabeling the crime offense column\n",
    "#---\n",
    "def sort_crime(column):\n",
    "    column = str(column).upper()\n",
    "    if 'ASSAULT' in column:\n",
    "        return 'ASSAULT'.lower()\n",
    "    elif 'MURDER' in column or 'HOMICIDE' in column:\n",
    "        return 'MURDER'.lower()\n",
    "    elif 'HARRASSMENT' in column:\n",
    "        return 'HARRASSMENT'.lower()\n",
    "    elif 'SEX' in column:\n",
    "        return \"SEX_CRIMES\".lower()\n",
    "    elif 'PETIT_LARCENY' in column:\n",
    "        return 'PETIT_LARCENY'.lower()\n",
    "    elif 'GRAND_LARCENY' in column:\n",
    "        return 'GRAND LARCENY'.lower()\n",
    "    elif 'FELONY ASSAULT' in column:\n",
    "        return 'FELONY ASSAULT'.lower()\n",
    "    elif 'BURGLAR' in column:\n",
    "        return 'BURGLAR'.lower()\n",
    "    elif 'KIDNAPPING' in column:\n",
    "        return 'KIDNAPPING'.lower()\n",
    "    elif 'FRAUD' in column:\n",
    "        return 'FRAUD'.lower()\n",
    "    elif 'GAMBLING' in column:\n",
    "        return'GAMBLING'.lower()\n",
    "    elif 'MOTOR' in column or 'TRAFFIC' in column or 'VEHICLE' in column or 'DRIVING' in column :\n",
    "        return 'MOTOR_VEHICLE_CRIME'.lower()\n",
    "    elif 'CRIMINAL_MISCHIEF' in column:\n",
    "        return 'CRIMINAL_MISCHIEF'.lower()\n",
    "    elif 'DRUGS' in column:\n",
    "        return 'DRUGS'.lower()\n",
    "    elif 'THEF' in column or 'STOLEN' in column:\n",
    "        return 'THEFT'.lower()\n",
    "    elif 'LAW' in column:\n",
    "        return 'UNCLASSIFIED_LAW'.lower()\n",
    "    elif 'TRESPASS' in column:\n",
    "        return \"TRESPASS\".lower()\n",
    "    elif 'OFF' in column and 'THEF'not in column:\n",
    "        return 'OFFENSE'.lower()\n",
    "    elif 'ARSON' in column:\n",
    "        return 'ARSON'.lower()\n",
    "    elif 'FORGERY' in column:\n",
    "        return 'FORGERY'.lower()\n",
    "    elif 'WEAP' in column:\n",
    "        return 'WEAPON'.lower()\n",
    "    elif 'CHILD' in column or 'ABORTION' in column:\n",
    "        return 'CHILD_RELATED'.lower()\n",
    "    elif 'JOST' in column or 'CONDUCT' in column:\n",
    "        return \"DISORDERLY_CONDUCT\".lower()\n",
    "    elif 'ROBBERY' in column:\n",
    "        return 'ROBBERY'.lower()\n",
    "    else:\n",
    "        return 'misc_other'"
   ]
  },
  {
   "cell_type": "code",
   "execution_count": 19,
   "metadata": {},
   "outputs": [
    {
     "data": {
      "text/plain": [
       "0    petit_larceny\n",
       "1    petit_larceny\n",
       "2    petit_larceny\n",
       "3            fraud\n",
       "4       sex_crimes\n",
       "5            fraud\n",
       "6          assault\n",
       "7            arson\n",
       "8          offense\n",
       "9    petit_larceny\n",
       "Name: crime_type, dtype: object"
      ]
     },
     "execution_count": 19,
     "metadata": {},
     "output_type": "execute_result"
    }
   ],
   "source": [
    "# relabeling crime in a different column\n",
    "df['crime_type'] = df['ofns_desc'].map(sort_crime)\n",
    "df['crime_type'][:10]"
   ]
  },
  {
   "cell_type": "code",
   "execution_count": 20,
   "metadata": {},
   "outputs": [
    {
     "data": {
      "text/plain": [
       "petit_larceny          174831\n",
       "assault                146384\n",
       "harrassment            141584\n",
       "grand larceny           96072\n",
       "criminal_mischief       93995\n",
       "offense                 57820\n",
       "unclassified_law        29876\n",
       "drugs                   28541\n",
       "robbery                 26150\n",
       "motor_vehicle_crime     25898\n",
       "burglar                 23001\n",
       "fraud                   14746\n",
       "weapon                  14137\n",
       "sex_crimes              13505\n",
       "forgery                  9908\n",
       "theft                    6590\n",
       "trespass                 6287\n",
       "misc_other               5197\n",
       "arson                    1427\n",
       "murder                    629\n",
       "gambling                  444\n",
       "kidnapping                254\n",
       "disorderly_conduct        142\n",
       "child_related              38\n",
       "Name: crime_type, dtype: int64"
      ]
     },
     "execution_count": 20,
     "metadata": {},
     "output_type": "execute_result"
    }
   ],
   "source": [
    "#checking crime type\n",
    "df['crime_type'].value_counts()"
   ]
  },
  {
   "cell_type": "code",
   "execution_count": 21,
   "metadata": {},
   "outputs": [
    {
     "data": {
      "text/plain": [
       "0         2\n",
       "1         2\n",
       "2         2\n",
       "3         3\n",
       "4         3\n",
       "         ..\n",
       "917451    2\n",
       "917452    2\n",
       "917453    2\n",
       "917454    2\n",
       "917455    2\n",
       "Name: crime_level, Length: 917456, dtype: int64"
      ]
     },
     "execution_count": 21,
     "metadata": {},
     "output_type": "execute_result"
    }
   ],
   "source": [
    "# relabeling crime as ordinal value\n",
    "def crime_value(column):\n",
    "    if column.upper() == 'MISDEMEANOR':\n",
    "        return 2\n",
    "    elif column.upper() == 'VIOLATION':\n",
    "        return 1\n",
    "    elif column.upper() == 'FELONY':\n",
    "        return 3\n",
    "df['crime_level'] = df['law_cat_cd'].map(crime_value)\n",
    "df['crime_level']"
   ]
  },
  {
   "cell_type": "code",
   "execution_count": 22,
   "metadata": {},
   "outputs": [
    {
     "data": {
      "text/html": [
       "<div>\n",
       "<style scoped>\n",
       "    .dataframe tbody tr th:only-of-type {\n",
       "        vertical-align: middle;\n",
       "    }\n",
       "\n",
       "    .dataframe tbody tr th {\n",
       "        vertical-align: top;\n",
       "    }\n",
       "\n",
       "    .dataframe thead th {\n",
       "        text-align: right;\n",
       "    }\n",
       "</style>\n",
       "<table border=\"1\" class=\"dataframe\">\n",
       "  <thead>\n",
       "    <tr style=\"text-align: right;\">\n",
       "      <th></th>\n",
       "      <th>cmplnt_num</th>\n",
       "      <th>cmplnt_fr_dt</th>\n",
       "      <th>cmplnt_fr_tm</th>\n",
       "      <th>cmplnt_to_dt</th>\n",
       "      <th>cmplnt_to_tm</th>\n",
       "      <th>addr_pct_cd</th>\n",
       "      <th>rpt_dt</th>\n",
       "      <th>ky_cd</th>\n",
       "      <th>ofns_desc</th>\n",
       "      <th>pd_cd</th>\n",
       "      <th>pd_desc</th>\n",
       "      <th>law_cat_cd</th>\n",
       "      <th>boro_nm</th>\n",
       "      <th>prem_typ_desc</th>\n",
       "      <th>susp_age_group</th>\n",
       "      <th>susp_race</th>\n",
       "      <th>susp_sex</th>\n",
       "      <th>latitude</th>\n",
       "      <th>longitude</th>\n",
       "      <th>patrol_boro</th>\n",
       "      <th>vic_age_group</th>\n",
       "      <th>vic_race</th>\n",
       "      <th>vic_sex</th>\n",
       "      <th>neighborhood</th>\n",
       "      <th>population</th>\n",
       "      <th>area</th>\n",
       "      <th>county</th>\n",
       "      <th>zipcodes</th>\n",
       "      <th>adjusted_gross_income_(agi)</th>\n",
       "      <th>avg_agi</th>\n",
       "      <th>total_income_amount</th>\n",
       "      <th>avg_total_income</th>\n",
       "      <th>taxable_income_amount</th>\n",
       "      <th>avg_taxable_income</th>\n",
       "      <th>crime_type</th>\n",
       "      <th>crime_level</th>\n",
       "    </tr>\n",
       "  </thead>\n",
       "  <tbody>\n",
       "    <tr>\n",
       "      <th>0</th>\n",
       "      <td>453608592</td>\n",
       "      <td>2018-12-21</td>\n",
       "      <td>10:00 AM</td>\n",
       "      <td>2018-12-21</td>\n",
       "      <td>14:00:00</td>\n",
       "      <td>7.0</td>\n",
       "      <td>2019-01-02</td>\n",
       "      <td>341</td>\n",
       "      <td>petit_larceny</td>\n",
       "      <td>338</td>\n",
       "      <td>larceny_petit_from_building_un</td>\n",
       "      <td>misdemeanor</td>\n",
       "      <td>manhattan</td>\n",
       "      <td>public_school</td>\n",
       "      <td>0</td>\n",
       "      <td>unknown</td>\n",
       "      <td>u</td>\n",
       "      <td>40.713719</td>\n",
       "      <td>-73.986088</td>\n",
       "      <td>man_south</td>\n",
       "      <td>unknown</td>\n",
       "      <td>unknown</td>\n",
       "      <td>d</td>\n",
       "      <td>MANHATTAN</td>\n",
       "      <td>81305.0</td>\n",
       "      <td>2.628013e+07</td>\n",
       "      <td>New York</td>\n",
       "      <td>10002.0</td>\n",
       "      <td>2002349.0</td>\n",
       "      <td>46.126446</td>\n",
       "      <td>2033619.0</td>\n",
       "      <td>46.846786</td>\n",
       "      <td>1347603.0</td>\n",
       "      <td>52.867909</td>\n",
       "      <td>petit_larceny</td>\n",
       "      <td>2</td>\n",
       "    </tr>\n",
       "    <tr>\n",
       "      <th>1</th>\n",
       "      <td>878647334</td>\n",
       "      <td>2018-10-17</td>\n",
       "      <td>14:30 PM</td>\n",
       "      <td>2018-10-18</td>\n",
       "      <td>18:40:00</td>\n",
       "      <td>104.0</td>\n",
       "      <td>2019-01-15</td>\n",
       "      <td>341</td>\n",
       "      <td>petit_larceny</td>\n",
       "      <td>349</td>\n",
       "      <td>larceny_petit_of_license_plate</td>\n",
       "      <td>misdemeanor</td>\n",
       "      <td>queens</td>\n",
       "      <td>street</td>\n",
       "      <td>0</td>\n",
       "      <td>unknown</td>\n",
       "      <td>u</td>\n",
       "      <td>40.703678</td>\n",
       "      <td>-73.860521</td>\n",
       "      <td>queens_north</td>\n",
       "      <td>2544</td>\n",
       "      <td>white_hispanic</td>\n",
       "      <td>f</td>\n",
       "      <td>QUEENS</td>\n",
       "      <td>98436.0</td>\n",
       "      <td>1.247863e+08</td>\n",
       "      <td>Queens</td>\n",
       "      <td>11385.0</td>\n",
       "      <td>1929001.0</td>\n",
       "      <td>40.653340</td>\n",
       "      <td>1948325.0</td>\n",
       "      <td>41.060590</td>\n",
       "      <td>1141610.0</td>\n",
       "      <td>34.149267</td>\n",
       "      <td>petit_larceny</td>\n",
       "      <td>2</td>\n",
       "    </tr>\n",
       "    <tr>\n",
       "      <th>2</th>\n",
       "      <td>128026914</td>\n",
       "      <td>2018-12-24</td>\n",
       "      <td>20:00 PM</td>\n",
       "      <td>NaN</td>\n",
       "      <td>NaN</td>\n",
       "      <td>45.0</td>\n",
       "      <td>2019-01-02</td>\n",
       "      <td>341</td>\n",
       "      <td>petit_larceny</td>\n",
       "      <td>349</td>\n",
       "      <td>larceny_petit_of_license_plate</td>\n",
       "      <td>misdemeanor</td>\n",
       "      <td>bronx</td>\n",
       "      <td>street</td>\n",
       "      <td>0</td>\n",
       "      <td>unknown</td>\n",
       "      <td>u</td>\n",
       "      <td>40.850475</td>\n",
       "      <td>-73.787007</td>\n",
       "      <td>bronx</td>\n",
       "      <td>4564</td>\n",
       "      <td>white</td>\n",
       "      <td>f</td>\n",
       "      <td>BRONX</td>\n",
       "      <td>4438.0</td>\n",
       "      <td>1.158795e+07</td>\n",
       "      <td>Bronx</td>\n",
       "      <td>10464.0</td>\n",
       "      <td>163217.0</td>\n",
       "      <td>76.269626</td>\n",
       "      <td>165381.0</td>\n",
       "      <td>77.280841</td>\n",
       "      <td>116220.0</td>\n",
       "      <td>66.034091</td>\n",
       "      <td>petit_larceny</td>\n",
       "      <td>2</td>\n",
       "    </tr>\n",
       "    <tr>\n",
       "      <th>3</th>\n",
       "      <td>997752766</td>\n",
       "      <td>2018-09-17</td>\n",
       "      <td>07:00 AM</td>\n",
       "      <td>NaN</td>\n",
       "      <td>NaN</td>\n",
       "      <td>62.0</td>\n",
       "      <td>2019-01-07</td>\n",
       "      <td>112</td>\n",
       "      <td>theft_fraud</td>\n",
       "      <td>739</td>\n",
       "      <td>fraud_unclassified_felony</td>\n",
       "      <td>felony</td>\n",
       "      <td>brooklyn</td>\n",
       "      <td>residence_house</td>\n",
       "      <td>0</td>\n",
       "      <td>unknown</td>\n",
       "      <td>u</td>\n",
       "      <td>40.610568</td>\n",
       "      <td>-73.986665</td>\n",
       "      <td>bklyn_south</td>\n",
       "      <td>unknown</td>\n",
       "      <td>unknown</td>\n",
       "      <td>f</td>\n",
       "      <td>BROOKLYN</td>\n",
       "      <td>77354.0</td>\n",
       "      <td>4.355518e+07</td>\n",
       "      <td>Kings</td>\n",
       "      <td>11204.0</td>\n",
       "      <td>1606891.0</td>\n",
       "      <td>50.499403</td>\n",
       "      <td>1629709.0</td>\n",
       "      <td>51.216499</td>\n",
       "      <td>902117.0</td>\n",
       "      <td>47.680603</td>\n",
       "      <td>fraud</td>\n",
       "      <td>3</td>\n",
       "    </tr>\n",
       "    <tr>\n",
       "      <th>4</th>\n",
       "      <td>746011851</td>\n",
       "      <td>2018-09-04</td>\n",
       "      <td>10:00 AM</td>\n",
       "      <td>NaN</td>\n",
       "      <td>NaN</td>\n",
       "      <td>52.0</td>\n",
       "      <td>2019-12-09</td>\n",
       "      <td>116</td>\n",
       "      <td>sex_crimes</td>\n",
       "      <td>168</td>\n",
       "      <td>sodomy_1</td>\n",
       "      <td>felony</td>\n",
       "      <td>bronx</td>\n",
       "      <td>residence_apt_house</td>\n",
       "      <td>unknown</td>\n",
       "      <td>unknown</td>\n",
       "      <td>m</td>\n",
       "      <td>40.869059</td>\n",
       "      <td>-73.879630</td>\n",
       "      <td>bronx</td>\n",
       "      <td>&lt;18</td>\n",
       "      <td>white_hispanic</td>\n",
       "      <td>f</td>\n",
       "      <td>BRONX</td>\n",
       "      <td>97932.0</td>\n",
       "      <td>6.933617e+07</td>\n",
       "      <td>Bronx</td>\n",
       "      <td>10467.0</td>\n",
       "      <td>1357285.0</td>\n",
       "      <td>31.616236</td>\n",
       "      <td>1368864.0</td>\n",
       "      <td>31.885954</td>\n",
       "      <td>710802.0</td>\n",
       "      <td>25.819179</td>\n",
       "      <td>sex_crimes</td>\n",
       "      <td>3</td>\n",
       "    </tr>\n",
       "  </tbody>\n",
       "</table>\n",
       "</div>"
      ],
      "text/plain": [
       "   cmplnt_num cmplnt_fr_dt cmplnt_fr_tm cmplnt_to_dt cmplnt_to_tm  \\\n",
       "0   453608592   2018-12-21     10:00 AM   2018-12-21     14:00:00   \n",
       "1   878647334   2018-10-17     14:30 PM   2018-10-18     18:40:00   \n",
       "2   128026914   2018-12-24     20:00 PM          NaN          NaN   \n",
       "3   997752766   2018-09-17     07:00 AM          NaN          NaN   \n",
       "4   746011851   2018-09-04     10:00 AM          NaN          NaN   \n",
       "\n",
       "   addr_pct_cd      rpt_dt  ky_cd      ofns_desc  pd_cd  \\\n",
       "0          7.0  2019-01-02    341  petit_larceny    338   \n",
       "1        104.0  2019-01-15    341  petit_larceny    349   \n",
       "2         45.0  2019-01-02    341  petit_larceny    349   \n",
       "3         62.0  2019-01-07    112    theft_fraud    739   \n",
       "4         52.0  2019-12-09    116     sex_crimes    168   \n",
       "\n",
       "                          pd_desc   law_cat_cd    boro_nm  \\\n",
       "0  larceny_petit_from_building_un  misdemeanor  manhattan   \n",
       "1  larceny_petit_of_license_plate  misdemeanor     queens   \n",
       "2  larceny_petit_of_license_plate  misdemeanor      bronx   \n",
       "3       fraud_unclassified_felony       felony   brooklyn   \n",
       "4                        sodomy_1       felony      bronx   \n",
       "\n",
       "         prem_typ_desc susp_age_group susp_race susp_sex   latitude  \\\n",
       "0        public_school              0   unknown        u  40.713719   \n",
       "1               street              0   unknown        u  40.703678   \n",
       "2               street              0   unknown        u  40.850475   \n",
       "3      residence_house              0   unknown        u  40.610568   \n",
       "4  residence_apt_house        unknown   unknown        m  40.869059   \n",
       "\n",
       "   longitude   patrol_boro vic_age_group        vic_race vic_sex neighborhood  \\\n",
       "0 -73.986088     man_south       unknown         unknown       d    MANHATTAN   \n",
       "1 -73.860521  queens_north          2544  white_hispanic       f       QUEENS   \n",
       "2 -73.787007         bronx          4564           white       f        BRONX   \n",
       "3 -73.986665   bklyn_south       unknown         unknown       f     BROOKLYN   \n",
       "4 -73.879630         bronx           <18  white_hispanic       f        BRONX   \n",
       "\n",
       "   population          area    county  zipcodes  adjusted_gross_income_(agi)  \\\n",
       "0     81305.0  2.628013e+07  New York   10002.0                    2002349.0   \n",
       "1     98436.0  1.247863e+08    Queens   11385.0                    1929001.0   \n",
       "2      4438.0  1.158795e+07     Bronx   10464.0                     163217.0   \n",
       "3     77354.0  4.355518e+07     Kings   11204.0                    1606891.0   \n",
       "4     97932.0  6.933617e+07     Bronx   10467.0                    1357285.0   \n",
       "\n",
       "     avg_agi  total_income_amount  avg_total_income  taxable_income_amount  \\\n",
       "0  46.126446            2033619.0         46.846786              1347603.0   \n",
       "1  40.653340            1948325.0         41.060590              1141610.0   \n",
       "2  76.269626             165381.0         77.280841               116220.0   \n",
       "3  50.499403            1629709.0         51.216499               902117.0   \n",
       "4  31.616236            1368864.0         31.885954               710802.0   \n",
       "\n",
       "   avg_taxable_income     crime_type  crime_level  \n",
       "0           52.867909  petit_larceny            2  \n",
       "1           34.149267  petit_larceny            2  \n",
       "2           66.034091  petit_larceny            2  \n",
       "3           47.680603          fraud            3  \n",
       "4           25.819179     sex_crimes            3  "
      ]
     },
     "execution_count": 22,
     "metadata": {},
     "output_type": "execute_result"
    }
   ],
   "source": [
    "df.head()"
   ]
  },
  {
   "cell_type": "markdown",
   "metadata": {},
   "source": [
    "### INCOME"
   ]
  },
  {
   "cell_type": "code",
   "execution_count": 23,
   "metadata": {},
   "outputs": [
    {
     "data": {
      "text/plain": [
       "Index(['cmplnt_num', 'cmplnt_fr_dt', 'cmplnt_fr_tm', 'cmplnt_to_dt',\n",
       "       'cmplnt_to_tm', 'addr_pct_cd', 'rpt_dt', 'ky_cd', 'ofns_desc', 'pd_cd',\n",
       "       'pd_desc', 'law_cat_cd', 'boro_nm', 'prem_typ_desc', 'susp_age_group',\n",
       "       'susp_race', 'susp_sex', 'latitude', 'longitude', 'patrol_boro',\n",
       "       'vic_age_group', 'vic_race', 'vic_sex', 'neighborhood', 'population',\n",
       "       'area', 'county', 'zipcodes', 'adjusted_gross_income_(agi)', 'avg_agi',\n",
       "       'total_income_amount', 'avg_total_income', 'taxable_income_amount',\n",
       "       'avg_taxable_income', 'crime_type', 'crime_level'],\n",
       "      dtype='object')"
      ]
     },
     "execution_count": 23,
     "metadata": {},
     "output_type": "execute_result"
    }
   ],
   "source": [
    "df.columns"
   ]
  },
  {
   "cell_type": "code",
   "execution_count": 24,
   "metadata": {
    "scrolled": false
   },
   "outputs": [
    {
     "data": {
      "image/png": "[encoded data removed]",
      "text/plain": [
       "<Figure size 720x576 with 1 Axes>"
      ]
     },
     "metadata": {
      "needs_background": "light"
     },
     "output_type": "display_data"
    }
   ],
   "source": [
    "plt.figure(figsize = (10, 8))\n",
    "plt.xticks(rotation = 30)\n",
    "plt.title('Distribution of AGI Within Neighborhood')\n",
    "plt.ylabel('Adjusted Gross Income')\n",
    "sns.boxplot(x= df['neighborhood'], y = df['adjusted_gross_income_(agi)'].sort_values());"
   ]
  },
  {
   "cell_type": "markdown",
   "metadata": {},
   "source": [
    "There is a large difference in income of Manhatten compared to the rest of NYC.  Queens, Bronx, Brooklyn and Staten Island are simliar."
   ]
  },
  {
   "cell_type": "code",
   "execution_count": 25,
   "metadata": {
    "scrolled": false
   },
   "outputs": [
    {
     "data": {
      "image/png": "[encoded data removed]",
      "text/plain": [
       "<Figure size 1296x1080 with 1 Axes>"
      ]
     },
     "metadata": {
      "needs_background": "light"
     },
     "output_type": "display_data"
    }
   ],
   "source": [
    "#Adjusted income by precinct\n",
    "plt.figure(figsize = (18, 15))\n",
    "plt.xticks(rotation = 30)\n",
    "plt.title('Distribution of AGI Within Precints')\n",
    "sns.boxplot(x= df['addr_pct_cd'], y = df['adjusted_gross_income_(agi)'].sort_values());"
   ]
  },
  {
   "cell_type": "markdown",
   "metadata": {},
   "source": [
    "The precincts with the highest imcomes are in the lower manhattan area. As you go north the precincts go up in value into the Bronx. Starting from precinct 50, precincts numbers move into the Brooklyn area, and Queens area. Staten Island has the highest precinct numbers.  This is important to understand how the precincts are layed out and where funds should be allocated. This analysis is from the ArcGIS precinct to crime map. "
   ]
  },
  {
   "cell_type": "code",
   "execution_count": 26,
   "metadata": {},
   "outputs": [
    {
     "name": "stdout",
     "output_type": "stream",
     "text": [
      "<class 'pandas.core.frame.DataFrame'>\n",
      "RangeIndex: 917456 entries, 0 to 917455\n",
      "Data columns (total 36 columns):\n",
      " #   Column                       Non-Null Count   Dtype         \n",
      "---  ------                       --------------   -----         \n",
      " 0   cmplnt_num                   917456 non-null  int64         \n",
      " 1   cmplnt_fr_dt                 917456 non-null  datetime64[ns]\n",
      " 2   cmplnt_fr_tm                 917456 non-null  object        \n",
      " 3   cmplnt_to_dt                 795467 non-null  object        \n",
      " 4   cmplnt_to_tm                 795963 non-null  object        \n",
      " 5   addr_pct_cd                  917456 non-null  float64       \n",
      " 6   rpt_dt                       917456 non-null  object        \n",
      " 7   ky_cd                        917456 non-null  int64         \n",
      " 8   ofns_desc                    917456 non-null  object        \n",
      " 9   pd_cd                        917456 non-null  int64         \n",
      " 10  pd_desc                      917456 non-null  object        \n",
      " 11  law_cat_cd                   917456 non-null  object        \n",
      " 12  boro_nm                      917456 non-null  object        \n",
      " 13  prem_typ_desc                917456 non-null  object        \n",
      " 14  susp_age_group               917456 non-null  object        \n",
      " 15  susp_race                    917456 non-null  object        \n",
      " 16  susp_sex                     917456 non-null  object        \n",
      " 17  latitude                     917456 non-null  float64       \n",
      " 18  longitude                    917456 non-null  float64       \n",
      " 19  patrol_boro                  917456 non-null  object        \n",
      " 20  vic_age_group                917456 non-null  object        \n",
      " 21  vic_race                     917456 non-null  object        \n",
      " 22  vic_sex                      917456 non-null  object        \n",
      " 23  neighborhood                 916841 non-null  object        \n",
      " 24  population                   917456 non-null  float64       \n",
      " 25  area                         917456 non-null  float64       \n",
      " 26  county                       917456 non-null  object        \n",
      " 27  zipcodes                     917456 non-null  float64       \n",
      " 28  adjusted_gross_income_(agi)  917456 non-null  float64       \n",
      " 29  avg_agi                      917456 non-null  float64       \n",
      " 30  total_income_amount          917456 non-null  float64       \n",
      " 31  avg_total_income             917456 non-null  float64       \n",
      " 32  taxable_income_amount        917456 non-null  float64       \n",
      " 33  avg_taxable_income           917456 non-null  float64       \n",
      " 34  crime_type                   917456 non-null  object        \n",
      " 35  crime_level                  917456 non-null  int64         \n",
      "dtypes: datetime64[ns](1), float64(12), int64(4), object(19)\n",
      "memory usage: 252.0+ MB\n"
     ]
    }
   ],
   "source": [
    "df.info()"
   ]
  },
  {
   "cell_type": "code",
   "execution_count": 27,
   "metadata": {},
   "outputs": [
    {
     "data": {
      "text/plain": [
       "<matplotlib.axes._subplots.AxesSubplot at 0x1f74bb050a0>"
      ]
     },
     "execution_count": 27,
     "metadata": {},
     "output_type": "execute_result"
    },
    {
     "data": {
      "image/png": "[encoded data removed]",
      "text/plain": [
       "<Figure size 1800x864 with 1 Axes>"
      ]
     },
     "metadata": {
      "needs_background": "light"
     },
     "output_type": "display_data"
    }
   ],
   "source": [
    "df['addr_pct_cd'] = df['addr_pct_cd'].astype('int64')\n",
    "plt.figure(figsize = (25,12))\n",
    "sns.barplot(x='addr_pct_cd',y='population', data=df)"
   ]
  },
  {
   "cell_type": "markdown",
   "metadata": {},
   "source": [
    "When looking at income, it is also important to look at the population of the area.  By comparing the two charts, we see that the Manhattan area has less people but a higher income.  This shows that the population in lower/middle Manhattan (closer to the Central park) are highest income area.  (Also good to evaluate on a map)"
   ]
  },
  {
   "cell_type": "markdown",
   "metadata": {},
   "source": [
    "### CRIME TIME"
   ]
  },
  {
   "cell_type": "code",
   "execution_count": 30,
   "metadata": {
    "scrolled": true
   },
   "outputs": [
    {
     "data": {
      "text/plain": [
       "<matplotlib.axes._subplots.AxesSubplot at 0x1f7160f9460>"
      ]
     },
     "execution_count": 30,
     "metadata": {},
     "output_type": "execute_result"
    },
    {
     "data": {
      "image/png": "[encoded data removed]",
      "text/plain": [
       "<Figure size 432x288 with 1 Axes>"
      ]
     },
     "metadata": {
      "needs_background": "light"
     },
     "output_type": "display_data"
    }
   ],
   "source": [
    "# total crimes a month\n",
    "df['cmplnt_fr_dt'].dt.month.value_counts().sort_index().plot(kind= 'bar')"
   ]
  },
  {
   "cell_type": "code",
   "execution_count": 31,
   "metadata": {
    "scrolled": true
   },
   "outputs": [
    {
     "data": {
      "text/plain": [
       "<matplotlib.axes._subplots.AxesSubplot at 0x1f715fa15e0>"
      ]
     },
     "execution_count": 31,
     "metadata": {},
     "output_type": "execute_result"
    },
    {
     "data": {
      "image/png": "[encoded data removed]",
      "text/plain": [
       "<Figure size 432x288 with 1 Axes>"
      ]
     },
     "metadata": {
      "needs_background": "light"
     },
     "output_type": "display_data"
    }
   ],
   "source": [
    "# total crimes by day\n",
    "df['cmplnt_fr_dt'].dt.day.value_counts().sort_index().plot(kind= 'bar')"
   ]
  },
  {
   "cell_type": "markdown",
   "metadata": {},
   "source": [
    "There is a jump on crimes committed on the first day of the month. There is also a decline on the 31, and from the 28th to 2"
   ]
  },
  {
   "cell_type": "code",
   "execution_count": 32,
   "metadata": {},
   "outputs": [],
   "source": [
    "day_1 = df[df['cmplnt_fr_dt'].dt.day == 1]"
   ]
  },
  {
   "cell_type": "code",
   "execution_count": 33,
   "metadata": {},
   "outputs": [
    {
     "data": {
      "text/plain": [
       "misdemeanor    20612\n",
       "felony         11250\n",
       "violation       5617\n",
       "Name: law_cat_cd, dtype: int64"
      ]
     },
     "execution_count": 33,
     "metadata": {},
     "output_type": "execute_result"
    }
   ],
   "source": [
    "day_1['law_cat_cd'].value_counts()"
   ]
  },
  {
   "cell_type": "code",
   "execution_count": 34,
   "metadata": {},
   "outputs": [],
   "source": [
    "day_2 = df[df['cmplnt_fr_dt'].dt.day == 2]#.groupby['law_cat_cd']"
   ]
  },
  {
   "cell_type": "code",
   "execution_count": 35,
   "metadata": {},
   "outputs": [
    {
     "data": {
      "text/plain": [
       "misdemeanor    16032\n",
       "felony          9208\n",
       "violation       4703\n",
       "Name: law_cat_cd, dtype: int64"
      ]
     },
     "execution_count": 35,
     "metadata": {},
     "output_type": "execute_result"
    }
   ],
   "source": [
    "day_2['law_cat_cd'].value_counts()"
   ]
  },
  {
   "cell_type": "code",
   "execution_count": 36,
   "metadata": {
    "scrolled": false
   },
   "outputs": [
    {
     "data": {
      "text/plain": [
       "<matplotlib.axes._subplots.AxesSubplot at 0x1f716250df0>"
      ]
     },
     "execution_count": 36,
     "metadata": {},
     "output_type": "execute_result"
    },
    {
     "data": {
      "image/png": "[encoded data removed]",
      "text/plain": [
       "<Figure size 1296x720 with 1 Axes>"
      ]
     },
     "metadata": {
      "needs_background": "light"
     },
     "output_type": "display_data"
    }
   ],
   "source": [
    "df.groupby([df['cmplnt_fr_dt'].dt.day,df ['law_cat_cd'] ])['law_cat_cd'].count().plot(kind='bar', figsize =(18,10))"
   ]
  },
  {
   "cell_type": "markdown",
   "metadata": {},
   "source": [
    "There is a small jump on the first day of the month. High rise in misdemeanor"
   ]
  },
  {
   "cell_type": "code",
   "execution_count": 60,
   "metadata": {
    "scrolled": false
   },
   "outputs": [
    {
     "data": {
      "text/plain": [
       "<matplotlib.axes._subplots.AxesSubplot at 0x1cc88506790>"
      ]
     },
     "execution_count": 60,
     "metadata": {},
     "output_type": "execute_result"
    },
    {
     "data": {
      "image/png": "[encoded data removed]",
      "text/plain": [
       "<Figure size 432x288 with 1 Axes>"
      ]
     },
     "metadata": {
      "needs_background": "light"
     },
     "output_type": "display_data"
    }
   ],
   "source": [
    "df.groupby([df['cmplnt_fr_dt'].dt.month,df ['law_cat_cd'] ])['law_cat_cd'].count().plot(kind='bar')"
   ]
  },
  {
   "cell_type": "markdown",
   "metadata": {},
   "source": [
    "Want to check the effects of weather on Crime. I would assume colder months less crime, however, holidays are another factor. Using just jupyter notebook was hard to visualize the crime.  Therefore I charted it in ArcGIS.\n",
    "- Check Crime on January 1 compared to other dates, and close to Holidays\n"
   ]
  },
  {
   "cell_type": "code",
   "execution_count": 37,
   "metadata": {},
   "outputs": [
    {
     "data": {
      "text/plain": [
       "<matplotlib.axes._subplots.AxesSubplot at 0x1f717a6e0a0>"
      ]
     },
     "execution_count": 37,
     "metadata": {},
     "output_type": "execute_result"
    },
    {
     "data": {
      "image/png": "[encoded data removed]",
      "text/plain": [
       "<Figure size 1800x720 with 1 Axes>"
      ]
     },
     "metadata": {
      "needs_background": "light"
     },
     "output_type": "display_data"
    }
   ],
   "source": [
    "df.groupby([df['cmplnt_fr_dt'].dt.day.head(10),df ['law_cat_cd'] ])['law_cat_cd'].count().plot(kind='bar', figsize =(25,10))"
   ]
  },
  {
   "cell_type": "markdown",
   "metadata": {},
   "source": [
    "From this point, I loaded our dataset into ArcGIS and completed the rest of the EDA and visualization through the software.\n",
    "Things I visualized were:\n",
    "- frequency of crime with dates\n",
    "- population and crime correlation\n",
    "- income and crime correlation\n",
    "- precinct and crime correlation\n",
    "- crime to holiday correlation"
   ]
  },
  {
   "cell_type": "code",
   "execution_count": null,
   "metadata": {},
   "outputs": [],
   "source": []
  }
 ],
 "metadata": {
  "kernelspec": {
   "display_name": "Python 3",
   "language": "python",
   "name": "python3"
  },
  "language_info": {
   "codemirror_mode": {
    "name": "ipython",
    "version": 3
   },
   "file_extension": ".py",
   "mimetype": "text/x-python",
   "name": "python",
   "nbconvert_exporter": "python",
   "pygments_lexer": "ipython3",
   "version": "3.8.3"
  }
 },
 "nbformat": 4,
 "nbformat_minor": 4
}
